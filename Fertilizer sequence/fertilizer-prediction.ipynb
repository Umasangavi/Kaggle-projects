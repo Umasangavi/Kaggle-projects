{
 "cells": [
  {
   "cell_type": "code",
   "execution_count": 1,
   "id": "1e77ca97",
   "metadata": {
    "_cell_guid": "b1076dfc-b9ad-4769-8c92-a6c4dae69d19",
    "_uuid": "8f2839f25d086af736a60e9eeb907d3b93b6e0e5",
    "execution": {
     "iopub.execute_input": "2022-06-13T14:08:49.341065Z",
     "iopub.status.busy": "2022-06-13T14:08:49.340468Z",
     "iopub.status.idle": "2022-06-13T14:08:49.357390Z",
     "shell.execute_reply": "2022-06-13T14:08:49.356342Z"
    },
    "papermill": {
     "duration": 0.034171,
     "end_time": "2022-06-13T14:08:49.360060",
     "exception": false,
     "start_time": "2022-06-13T14:08:49.325889",
     "status": "completed"
    },
    "tags": []
   },
   "outputs": [
    {
     "name": "stdout",
     "output_type": "stream",
     "text": [
      "/kaggle/input/fertilizer-prediction/Fertilizer Prediction.csv\n"
     ]
    }
   ],
   "source": [
    "# This Python 3 environment comes with many helpful analytics libraries installed\n",
    "# It is defined by the kaggle/python Docker image: https://github.com/kaggle/docker-python\n",
    "# For example, here's several helpful packages to load\n",
    "\n",
    "import numpy as np # linear algebra\n",
    "import pandas as pd # data processing, CSV file I/O (e.g. pd.read_csv)\n",
    "\n",
    "# Input data files are available in the read-only \"../input/\" directory\n",
    "# For example, running this (by clicking run or pressing Shift+Enter) will list all files under the input directory\n",
    "\n",
    "import os\n",
    "for dirname, _, filenames in os.walk('/kaggle/input'):\n",
    "    for filename in filenames:\n",
    "        print(os.path.join(dirname, filename))\n",
    "\n",
    "# You can write up to 20GB to the current directory (/kaggle/working/) that gets preserved as output when you create a version using \"Save & Run All\" \n",
    "# You can also write temporary files to /kaggle/temp/, but they won't be saved outside of the current session"
   ]
  },
  {
   "cell_type": "markdown",
   "id": "68850605",
   "metadata": {
    "papermill": {
     "duration": 0.012189,
     "end_time": "2022-06-13T14:08:49.385950",
     "exception": false,
     "start_time": "2022-06-13T14:08:49.373761",
     "status": "completed"
    },
    "tags": []
   },
   "source": [
    "IMPORTING LIBRARIES"
   ]
  },
  {
   "cell_type": "code",
   "execution_count": 2,
   "id": "94d0dfe2",
   "metadata": {
    "execution": {
     "iopub.execute_input": "2022-06-13T14:08:49.412496Z",
     "iopub.status.busy": "2022-06-13T14:08:49.412008Z",
     "iopub.status.idle": "2022-06-13T14:08:50.423987Z",
     "shell.execute_reply": "2022-06-13T14:08:50.423281Z"
    },
    "papermill": {
     "duration": 1.027295,
     "end_time": "2022-06-13T14:08:50.425836",
     "exception": false,
     "start_time": "2022-06-13T14:08:49.398541",
     "status": "completed"
    },
    "tags": []
   },
   "outputs": [],
   "source": [
    "import pandas as pd\n",
    "import numpy as np\n",
    "import matplotlib.pyplot as plt\n",
    "import seaborn as sns\n",
    "%matplotlib inline\n",
    "import warnings\n",
    "warnings.filterwarnings('ignore')"
   ]
  },
  {
   "cell_type": "code",
   "execution_count": 3,
   "id": "12022a88",
   "metadata": {
    "execution": {
     "iopub.execute_input": "2022-06-13T14:08:50.453499Z",
     "iopub.status.busy": "2022-06-13T14:08:50.452792Z",
     "iopub.status.idle": "2022-06-13T14:08:50.488546Z",
     "shell.execute_reply": "2022-06-13T14:08:50.487611Z"
    },
    "papermill": {
     "duration": 0.051263,
     "end_time": "2022-06-13T14:08:50.490290",
     "exception": false,
     "start_time": "2022-06-13T14:08:50.439027",
     "status": "completed"
    },
    "tags": []
   },
   "outputs": [
    {
     "data": {
      "text/html": [
       "<div>\n",
       "<style scoped>\n",
       "    .dataframe tbody tr th:only-of-type {\n",
       "        vertical-align: middle;\n",
       "    }\n",
       "\n",
       "    .dataframe tbody tr th {\n",
       "        vertical-align: top;\n",
       "    }\n",
       "\n",
       "    .dataframe thead th {\n",
       "        text-align: right;\n",
       "    }\n",
       "</style>\n",
       "<table border=\"1\" class=\"dataframe\">\n",
       "  <thead>\n",
       "    <tr style=\"text-align: right;\">\n",
       "      <th></th>\n",
       "      <th>Temparature</th>\n",
       "      <th>Humidity</th>\n",
       "      <th>Moisture</th>\n",
       "      <th>Soil Type</th>\n",
       "      <th>Crop Type</th>\n",
       "      <th>Nitrogen</th>\n",
       "      <th>Potassium</th>\n",
       "      <th>Phosphorous</th>\n",
       "      <th>Fertilizer Name</th>\n",
       "    </tr>\n",
       "  </thead>\n",
       "  <tbody>\n",
       "    <tr>\n",
       "      <th>0</th>\n",
       "      <td>26</td>\n",
       "      <td>52</td>\n",
       "      <td>38</td>\n",
       "      <td>Sandy</td>\n",
       "      <td>Maize</td>\n",
       "      <td>37</td>\n",
       "      <td>0</td>\n",
       "      <td>0</td>\n",
       "      <td>Urea</td>\n",
       "    </tr>\n",
       "    <tr>\n",
       "      <th>1</th>\n",
       "      <td>29</td>\n",
       "      <td>52</td>\n",
       "      <td>45</td>\n",
       "      <td>Loamy</td>\n",
       "      <td>Sugarcane</td>\n",
       "      <td>12</td>\n",
       "      <td>0</td>\n",
       "      <td>36</td>\n",
       "      <td>DAP</td>\n",
       "    </tr>\n",
       "    <tr>\n",
       "      <th>2</th>\n",
       "      <td>34</td>\n",
       "      <td>65</td>\n",
       "      <td>62</td>\n",
       "      <td>Black</td>\n",
       "      <td>Cotton</td>\n",
       "      <td>7</td>\n",
       "      <td>9</td>\n",
       "      <td>30</td>\n",
       "      <td>14-35-14</td>\n",
       "    </tr>\n",
       "    <tr>\n",
       "      <th>3</th>\n",
       "      <td>32</td>\n",
       "      <td>62</td>\n",
       "      <td>34</td>\n",
       "      <td>Red</td>\n",
       "      <td>Tobacco</td>\n",
       "      <td>22</td>\n",
       "      <td>0</td>\n",
       "      <td>20</td>\n",
       "      <td>28-28</td>\n",
       "    </tr>\n",
       "    <tr>\n",
       "      <th>4</th>\n",
       "      <td>28</td>\n",
       "      <td>54</td>\n",
       "      <td>46</td>\n",
       "      <td>Clayey</td>\n",
       "      <td>Paddy</td>\n",
       "      <td>35</td>\n",
       "      <td>0</td>\n",
       "      <td>0</td>\n",
       "      <td>Urea</td>\n",
       "    </tr>\n",
       "    <tr>\n",
       "      <th>...</th>\n",
       "      <td>...</td>\n",
       "      <td>...</td>\n",
       "      <td>...</td>\n",
       "      <td>...</td>\n",
       "      <td>...</td>\n",
       "      <td>...</td>\n",
       "      <td>...</td>\n",
       "      <td>...</td>\n",
       "      <td>...</td>\n",
       "    </tr>\n",
       "    <tr>\n",
       "      <th>94</th>\n",
       "      <td>25</td>\n",
       "      <td>50</td>\n",
       "      <td>32</td>\n",
       "      <td>Clayey</td>\n",
       "      <td>Pulses</td>\n",
       "      <td>24</td>\n",
       "      <td>0</td>\n",
       "      <td>19</td>\n",
       "      <td>28-28</td>\n",
       "    </tr>\n",
       "    <tr>\n",
       "      <th>95</th>\n",
       "      <td>30</td>\n",
       "      <td>60</td>\n",
       "      <td>27</td>\n",
       "      <td>Red</td>\n",
       "      <td>Tobacco</td>\n",
       "      <td>4</td>\n",
       "      <td>17</td>\n",
       "      <td>17</td>\n",
       "      <td>10-26-26</td>\n",
       "    </tr>\n",
       "    <tr>\n",
       "      <th>96</th>\n",
       "      <td>38</td>\n",
       "      <td>72</td>\n",
       "      <td>51</td>\n",
       "      <td>Loamy</td>\n",
       "      <td>Wheat</td>\n",
       "      <td>39</td>\n",
       "      <td>0</td>\n",
       "      <td>0</td>\n",
       "      <td>Urea</td>\n",
       "    </tr>\n",
       "    <tr>\n",
       "      <th>97</th>\n",
       "      <td>36</td>\n",
       "      <td>60</td>\n",
       "      <td>43</td>\n",
       "      <td>Sandy</td>\n",
       "      <td>Millets</td>\n",
       "      <td>15</td>\n",
       "      <td>0</td>\n",
       "      <td>41</td>\n",
       "      <td>DAP</td>\n",
       "    </tr>\n",
       "    <tr>\n",
       "      <th>98</th>\n",
       "      <td>29</td>\n",
       "      <td>58</td>\n",
       "      <td>57</td>\n",
       "      <td>Black</td>\n",
       "      <td>Sugarcane</td>\n",
       "      <td>12</td>\n",
       "      <td>0</td>\n",
       "      <td>10</td>\n",
       "      <td>20-20</td>\n",
       "    </tr>\n",
       "  </tbody>\n",
       "</table>\n",
       "<p>99 rows × 9 columns</p>\n",
       "</div>"
      ],
      "text/plain": [
       "    Temparature  Humidity   Moisture Soil Type  Crop Type  Nitrogen  \\\n",
       "0            26         52        38     Sandy      Maize        37   \n",
       "1            29         52        45     Loamy  Sugarcane        12   \n",
       "2            34         65        62     Black     Cotton         7   \n",
       "3            32         62        34       Red    Tobacco        22   \n",
       "4            28         54        46    Clayey      Paddy        35   \n",
       "..          ...        ...       ...       ...        ...       ...   \n",
       "94           25         50        32    Clayey     Pulses        24   \n",
       "95           30         60        27       Red    Tobacco         4   \n",
       "96           38         72        51     Loamy      Wheat        39   \n",
       "97           36         60        43     Sandy    Millets        15   \n",
       "98           29         58        57     Black  Sugarcane        12   \n",
       "\n",
       "    Potassium  Phosphorous Fertilizer Name  \n",
       "0           0            0            Urea  \n",
       "1           0           36             DAP  \n",
       "2           9           30        14-35-14  \n",
       "3           0           20           28-28  \n",
       "4           0            0            Urea  \n",
       "..        ...          ...             ...  \n",
       "94          0           19           28-28  \n",
       "95         17           17        10-26-26  \n",
       "96          0            0            Urea  \n",
       "97          0           41             DAP  \n",
       "98          0           10           20-20  \n",
       "\n",
       "[99 rows x 9 columns]"
      ]
     },
     "execution_count": 3,
     "metadata": {},
     "output_type": "execute_result"
    }
   ],
   "source": [
    "df=pd.read_csv('../input/fertilizer-prediction/Fertilizer Prediction.csv')\n",
    "df"
   ]
  },
  {
   "cell_type": "code",
   "execution_count": 4,
   "id": "bfcfb61e",
   "metadata": {
    "execution": {
     "iopub.execute_input": "2022-06-13T14:08:50.517284Z",
     "iopub.status.busy": "2022-06-13T14:08:50.516881Z",
     "iopub.status.idle": "2022-06-13T14:08:50.522865Z",
     "shell.execute_reply": "2022-06-13T14:08:50.522205Z"
    },
    "papermill": {
     "duration": 0.021183,
     "end_time": "2022-06-13T14:08:50.524359",
     "exception": false,
     "start_time": "2022-06-13T14:08:50.503176",
     "status": "completed"
    },
    "tags": []
   },
   "outputs": [
    {
     "data": {
      "text/plain": [
       "(99, 9)"
      ]
     },
     "execution_count": 4,
     "metadata": {},
     "output_type": "execute_result"
    }
   ],
   "source": [
    "df.shape"
   ]
  },
  {
   "cell_type": "code",
   "execution_count": 5,
   "id": "e4f62d29",
   "metadata": {
    "execution": {
     "iopub.execute_input": "2022-06-13T14:08:50.551537Z",
     "iopub.status.busy": "2022-06-13T14:08:50.550994Z",
     "iopub.status.idle": "2022-06-13T14:08:50.571214Z",
     "shell.execute_reply": "2022-06-13T14:08:50.570292Z"
    },
    "papermill": {
     "duration": 0.036122,
     "end_time": "2022-06-13T14:08:50.573180",
     "exception": false,
     "start_time": "2022-06-13T14:08:50.537058",
     "status": "completed"
    },
    "tags": []
   },
   "outputs": [
    {
     "name": "stdout",
     "output_type": "stream",
     "text": [
      "<class 'pandas.core.frame.DataFrame'>\n",
      "RangeIndex: 99 entries, 0 to 98\n",
      "Data columns (total 9 columns):\n",
      " #   Column           Non-Null Count  Dtype \n",
      "---  ------           --------------  ----- \n",
      " 0   Temparature      99 non-null     int64 \n",
      " 1   Humidity         99 non-null     int64 \n",
      " 2   Moisture         99 non-null     int64 \n",
      " 3   Soil Type        99 non-null     object\n",
      " 4   Crop Type        99 non-null     object\n",
      " 5   Nitrogen         99 non-null     int64 \n",
      " 6   Potassium        99 non-null     int64 \n",
      " 7   Phosphorous      99 non-null     int64 \n",
      " 8   Fertilizer Name  99 non-null     object\n",
      "dtypes: int64(6), object(3)\n",
      "memory usage: 7.1+ KB\n"
     ]
    }
   ],
   "source": [
    "df.info()"
   ]
  },
  {
   "cell_type": "code",
   "execution_count": 6,
   "id": "25e4e59c",
   "metadata": {
    "execution": {
     "iopub.execute_input": "2022-06-13T14:08:50.617414Z",
     "iopub.status.busy": "2022-06-13T14:08:50.616894Z",
     "iopub.status.idle": "2022-06-13T14:08:50.645127Z",
     "shell.execute_reply": "2022-06-13T14:08:50.644313Z"
    },
    "papermill": {
     "duration": 0.052065,
     "end_time": "2022-06-13T14:08:50.646727",
     "exception": false,
     "start_time": "2022-06-13T14:08:50.594662",
     "status": "completed"
    },
    "tags": []
   },
   "outputs": [
    {
     "data": {
      "text/html": [
       "<div>\n",
       "<style scoped>\n",
       "    .dataframe tbody tr th:only-of-type {\n",
       "        vertical-align: middle;\n",
       "    }\n",
       "\n",
       "    .dataframe tbody tr th {\n",
       "        vertical-align: top;\n",
       "    }\n",
       "\n",
       "    .dataframe thead th {\n",
       "        text-align: right;\n",
       "    }\n",
       "</style>\n",
       "<table border=\"1\" class=\"dataframe\">\n",
       "  <thead>\n",
       "    <tr style=\"text-align: right;\">\n",
       "      <th></th>\n",
       "      <th>Temparature</th>\n",
       "      <th>Humidity</th>\n",
       "      <th>Moisture</th>\n",
       "      <th>Nitrogen</th>\n",
       "      <th>Potassium</th>\n",
       "      <th>Phosphorous</th>\n",
       "    </tr>\n",
       "  </thead>\n",
       "  <tbody>\n",
       "    <tr>\n",
       "      <th>count</th>\n",
       "      <td>99.000000</td>\n",
       "      <td>99.000000</td>\n",
       "      <td>99.000000</td>\n",
       "      <td>99.000000</td>\n",
       "      <td>99.000000</td>\n",
       "      <td>99.000000</td>\n",
       "    </tr>\n",
       "    <tr>\n",
       "      <th>mean</th>\n",
       "      <td>30.282828</td>\n",
       "      <td>59.151515</td>\n",
       "      <td>43.181818</td>\n",
       "      <td>18.909091</td>\n",
       "      <td>3.383838</td>\n",
       "      <td>18.606061</td>\n",
       "    </tr>\n",
       "    <tr>\n",
       "      <th>std</th>\n",
       "      <td>3.502304</td>\n",
       "      <td>5.840331</td>\n",
       "      <td>11.271568</td>\n",
       "      <td>11.599693</td>\n",
       "      <td>5.814667</td>\n",
       "      <td>13.476978</td>\n",
       "    </tr>\n",
       "    <tr>\n",
       "      <th>min</th>\n",
       "      <td>25.000000</td>\n",
       "      <td>50.000000</td>\n",
       "      <td>25.000000</td>\n",
       "      <td>4.000000</td>\n",
       "      <td>0.000000</td>\n",
       "      <td>0.000000</td>\n",
       "    </tr>\n",
       "    <tr>\n",
       "      <th>25%</th>\n",
       "      <td>28.000000</td>\n",
       "      <td>54.000000</td>\n",
       "      <td>34.000000</td>\n",
       "      <td>10.000000</td>\n",
       "      <td>0.000000</td>\n",
       "      <td>9.000000</td>\n",
       "    </tr>\n",
       "    <tr>\n",
       "      <th>50%</th>\n",
       "      <td>30.000000</td>\n",
       "      <td>60.000000</td>\n",
       "      <td>41.000000</td>\n",
       "      <td>13.000000</td>\n",
       "      <td>0.000000</td>\n",
       "      <td>19.000000</td>\n",
       "    </tr>\n",
       "    <tr>\n",
       "      <th>75%</th>\n",
       "      <td>33.000000</td>\n",
       "      <td>64.000000</td>\n",
       "      <td>50.500000</td>\n",
       "      <td>24.000000</td>\n",
       "      <td>7.500000</td>\n",
       "      <td>30.000000</td>\n",
       "    </tr>\n",
       "    <tr>\n",
       "      <th>max</th>\n",
       "      <td>38.000000</td>\n",
       "      <td>72.000000</td>\n",
       "      <td>65.000000</td>\n",
       "      <td>42.000000</td>\n",
       "      <td>19.000000</td>\n",
       "      <td>42.000000</td>\n",
       "    </tr>\n",
       "  </tbody>\n",
       "</table>\n",
       "</div>"
      ],
      "text/plain": [
       "       Temparature  Humidity    Moisture   Nitrogen  Potassium  Phosphorous\n",
       "count    99.000000  99.000000  99.000000  99.000000  99.000000    99.000000\n",
       "mean     30.282828  59.151515  43.181818  18.909091   3.383838    18.606061\n",
       "std       3.502304   5.840331  11.271568  11.599693   5.814667    13.476978\n",
       "min      25.000000  50.000000  25.000000   4.000000   0.000000     0.000000\n",
       "25%      28.000000  54.000000  34.000000  10.000000   0.000000     9.000000\n",
       "50%      30.000000  60.000000  41.000000  13.000000   0.000000    19.000000\n",
       "75%      33.000000  64.000000  50.500000  24.000000   7.500000    30.000000\n",
       "max      38.000000  72.000000  65.000000  42.000000  19.000000    42.000000"
      ]
     },
     "execution_count": 6,
     "metadata": {},
     "output_type": "execute_result"
    }
   ],
   "source": [
    "df.describe()"
   ]
  },
  {
   "cell_type": "markdown",
   "id": "1ba71769",
   "metadata": {
    "papermill": {
     "duration": 0.012526,
     "end_time": "2022-06-13T14:08:50.672575",
     "exception": false,
     "start_time": "2022-06-13T14:08:50.660049",
     "status": "completed"
    },
    "tags": []
   },
   "source": [
    "CHECKING FOR NULL VALUES"
   ]
  },
  {
   "cell_type": "code",
   "execution_count": 7,
   "id": "df83bdaf",
   "metadata": {
    "execution": {
     "iopub.execute_input": "2022-06-13T14:08:50.699643Z",
     "iopub.status.busy": "2022-06-13T14:08:50.699253Z",
     "iopub.status.idle": "2022-06-13T14:08:50.708241Z",
     "shell.execute_reply": "2022-06-13T14:08:50.707377Z"
    },
    "papermill": {
     "duration": 0.024387,
     "end_time": "2022-06-13T14:08:50.709744",
     "exception": false,
     "start_time": "2022-06-13T14:08:50.685357",
     "status": "completed"
    },
    "tags": []
   },
   "outputs": [
    {
     "data": {
      "text/plain": [
       "Temparature        0\n",
       "Humidity           0\n",
       "Moisture           0\n",
       "Soil Type          0\n",
       "Crop Type          0\n",
       "Nitrogen           0\n",
       "Potassium          0\n",
       "Phosphorous        0\n",
       "Fertilizer Name    0\n",
       "dtype: int64"
      ]
     },
     "execution_count": 7,
     "metadata": {},
     "output_type": "execute_result"
    }
   ],
   "source": [
    "df.isnull().sum()"
   ]
  },
  {
   "cell_type": "code",
   "execution_count": 8,
   "id": "678dbf6b",
   "metadata": {
    "execution": {
     "iopub.execute_input": "2022-06-13T14:08:50.737519Z",
     "iopub.status.busy": "2022-06-13T14:08:50.736715Z",
     "iopub.status.idle": "2022-06-13T14:08:50.746871Z",
     "shell.execute_reply": "2022-06-13T14:08:50.745878Z"
    },
    "papermill": {
     "duration": 0.025695,
     "end_time": "2022-06-13T14:08:50.748484",
     "exception": false,
     "start_time": "2022-06-13T14:08:50.722789",
     "status": "completed"
    },
    "tags": []
   },
   "outputs": [
    {
     "data": {
      "text/plain": [
       "Temparature        14\n",
       "Humidity           13\n",
       "Moisture           41\n",
       "Soil Type           5\n",
       "Crop Type          11\n",
       "Nitrogen           24\n",
       "Potassium          13\n",
       "Phosphorous        32\n",
       "Fertilizer Name     7\n",
       "dtype: int64"
      ]
     },
     "execution_count": 8,
     "metadata": {},
     "output_type": "execute_result"
    }
   ],
   "source": [
    "df.nunique()"
   ]
  },
  {
   "cell_type": "code",
   "execution_count": 9,
   "id": "b0ded0d3",
   "metadata": {
    "execution": {
     "iopub.execute_input": "2022-06-13T14:08:50.776228Z",
     "iopub.status.busy": "2022-06-13T14:08:50.775775Z",
     "iopub.status.idle": "2022-06-13T14:08:50.783445Z",
     "shell.execute_reply": "2022-06-13T14:08:50.782510Z"
    },
    "papermill": {
     "duration": 0.023448,
     "end_time": "2022-06-13T14:08:50.784980",
     "exception": false,
     "start_time": "2022-06-13T14:08:50.761532",
     "status": "completed"
    },
    "tags": []
   },
   "outputs": [
    {
     "data": {
      "text/plain": [
       "Temparature    int64\n",
       "Humidity       int64\n",
       "Moisture       int64\n",
       "Nitrogen       int64\n",
       "Potassium      int64\n",
       "Phosphorous    int64\n",
       "dtype: object"
      ]
     },
     "execution_count": 9,
     "metadata": {},
     "output_type": "execute_result"
    }
   ],
   "source": [
    "df.dtypes[df.dtypes =='int64']"
   ]
  },
  {
   "cell_type": "code",
   "execution_count": 10,
   "id": "2ae3c229",
   "metadata": {
    "execution": {
     "iopub.execute_input": "2022-06-13T14:08:50.814240Z",
     "iopub.status.busy": "2022-06-13T14:08:50.813792Z",
     "iopub.status.idle": "2022-06-13T14:08:50.820330Z",
     "shell.execute_reply": "2022-06-13T14:08:50.819565Z"
    },
    "papermill": {
     "duration": 0.023112,
     "end_time": "2022-06-13T14:08:50.821922",
     "exception": false,
     "start_time": "2022-06-13T14:08:50.798810",
     "status": "completed"
    },
    "tags": []
   },
   "outputs": [
    {
     "data": {
      "text/plain": [
       "Soil Type          object\n",
       "Crop Type          object\n",
       "Fertilizer Name    object\n",
       "dtype: object"
      ]
     },
     "execution_count": 10,
     "metadata": {},
     "output_type": "execute_result"
    }
   ],
   "source": [
    "df.dtypes[df.dtypes =='object']"
   ]
  },
  {
   "cell_type": "markdown",
   "id": "ff15811f",
   "metadata": {
    "papermill": {
     "duration": 0.013301,
     "end_time": "2022-06-13T14:08:50.849404",
     "exception": false,
     "start_time": "2022-06-13T14:08:50.836103",
     "status": "completed"
    },
    "tags": []
   },
   "source": [
    "ANALYSING THE TARGET CLASS"
   ]
  },
  {
   "cell_type": "code",
   "execution_count": 11,
   "id": "fca72c51",
   "metadata": {
    "execution": {
     "iopub.execute_input": "2022-06-13T14:08:50.878070Z",
     "iopub.status.busy": "2022-06-13T14:08:50.877631Z",
     "iopub.status.idle": "2022-06-13T14:08:50.883489Z",
     "shell.execute_reply": "2022-06-13T14:08:50.882856Z"
    },
    "papermill": {
     "duration": 0.022186,
     "end_time": "2022-06-13T14:08:50.885059",
     "exception": false,
     "start_time": "2022-06-13T14:08:50.862873",
     "status": "completed"
    },
    "tags": []
   },
   "outputs": [
    {
     "data": {
      "text/plain": [
       "array(['Urea', 'DAP', '14-35-14', '28-28', '17-17-17', '20-20',\n",
       "       '10-26-26'], dtype=object)"
      ]
     },
     "execution_count": 11,
     "metadata": {},
     "output_type": "execute_result"
    }
   ],
   "source": [
    "df['Fertilizer Name'].unique()"
   ]
  },
  {
   "cell_type": "code",
   "execution_count": 12,
   "id": "ec95c5ef",
   "metadata": {
    "execution": {
     "iopub.execute_input": "2022-06-13T14:08:50.913660Z",
     "iopub.status.busy": "2022-06-13T14:08:50.913341Z",
     "iopub.status.idle": "2022-06-13T14:08:50.919871Z",
     "shell.execute_reply": "2022-06-13T14:08:50.919116Z"
    },
    "papermill": {
     "duration": 0.022763,
     "end_time": "2022-06-13T14:08:50.921438",
     "exception": false,
     "start_time": "2022-06-13T14:08:50.898675",
     "status": "completed"
    },
    "tags": []
   },
   "outputs": [
    {
     "data": {
      "text/plain": [
       "Urea        22\n",
       "DAP         18\n",
       "28-28       17\n",
       "14-35-14    14\n",
       "20-20       14\n",
       "17-17-17     7\n",
       "10-26-26     7\n",
       "Name: Fertilizer Name, dtype: int64"
      ]
     },
     "execution_count": 12,
     "metadata": {},
     "output_type": "execute_result"
    }
   ],
   "source": [
    "df['Fertilizer Name'].value_counts()"
   ]
  },
  {
   "cell_type": "markdown",
   "id": "3d32a081",
   "metadata": {
    "papermill": {
     "duration": 0.013555,
     "end_time": "2022-06-13T14:08:50.949485",
     "exception": false,
     "start_time": "2022-06-13T14:08:50.935930",
     "status": "completed"
    },
    "tags": []
   },
   "source": [
    "EDA"
   ]
  },
  {
   "cell_type": "code",
   "execution_count": 13,
   "id": "2ce6e41d",
   "metadata": {
    "execution": {
     "iopub.execute_input": "2022-06-13T14:08:50.979269Z",
     "iopub.status.busy": "2022-06-13T14:08:50.978611Z",
     "iopub.status.idle": "2022-06-13T14:08:51.143819Z",
     "shell.execute_reply": "2022-06-13T14:08:51.142945Z"
    },
    "papermill": {
     "duration": 0.18225,
     "end_time": "2022-06-13T14:08:51.145923",
     "exception": false,
     "start_time": "2022-06-13T14:08:50.963673",
     "status": "completed"
    },
    "tags": []
   },
   "outputs": [
    {
     "data": {
      "text/plain": [
       "<AxesSubplot:xlabel='Fertilizer Name', ylabel='count'>"
      ]
     },
     "execution_count": 13,
     "metadata": {},
     "output_type": "execute_result"
    },
    {
     "data": {
      "image/png": "[encoded data removed]",
      "text/plain": [
       "<Figure size 432x288 with 1 Axes>"
      ]
     },
     "metadata": {
      "needs_background": "light"
     },
     "output_type": "display_data"
    }
   ],
   "source": [
    "sns.countplot(df['Fertilizer Name'],palette=\"crest\")"
   ]
  },
  {
   "cell_type": "code",
   "execution_count": 14,
   "id": "794a4fba",
   "metadata": {
    "execution": {
     "iopub.execute_input": "2022-06-13T14:08:51.177223Z",
     "iopub.status.busy": "2022-06-13T14:08:51.176771Z",
     "iopub.status.idle": "2022-06-13T14:08:51.336681Z",
     "shell.execute_reply": "2022-06-13T14:08:51.335740Z"
    },
    "papermill": {
     "duration": 0.176979,
     "end_time": "2022-06-13T14:08:51.338558",
     "exception": false,
     "start_time": "2022-06-13T14:08:51.161579",
     "status": "completed"
    },
    "tags": []
   },
   "outputs": [
    {
     "data": {
      "image/png": "[encoded data removed]",
      "text/plain": [
       "<Figure size 432x288 with 1 Axes>"
      ]
     },
     "metadata": {},
     "output_type": "display_data"
    }
   ],
   "source": [
    "labels= 'Urea', 'DAP', '14-35-14', '28-28', '17-17-17', '20-20','10-26-26'\n",
    "fig,ax=plt.subplots()\n",
    "ax.pie(df['Fertilizer Name'].value_counts(),labels=labels,radius=2,autopct='%1.2f%%', shadow=True)\n",
    "plt.show()"
   ]
  },
  {
   "cell_type": "code",
   "execution_count": 15,
   "id": "455ad4ac",
   "metadata": {
    "execution": {
     "iopub.execute_input": "2022-06-13T14:08:51.378317Z",
     "iopub.status.busy": "2022-06-13T14:08:51.377747Z",
     "iopub.status.idle": "2022-06-13T14:08:51.383765Z",
     "shell.execute_reply": "2022-06-13T14:08:51.383285Z"
    },
    "papermill": {
     "duration": 0.027624,
     "end_time": "2022-06-13T14:08:51.385447",
     "exception": false,
     "start_time": "2022-06-13T14:08:51.357823",
     "status": "completed"
    },
    "tags": []
   },
   "outputs": [
    {
     "data": {
      "text/plain": [
       "Loamy     21\n",
       "Sandy     20\n",
       "Clayey    20\n",
       "Black     19\n",
       "Red       19\n",
       "Name: Soil Type, dtype: int64"
      ]
     },
     "execution_count": 15,
     "metadata": {},
     "output_type": "execute_result"
    }
   ],
   "source": [
    "df['Soil Type'].value_counts()"
   ]
  },
  {
   "cell_type": "code",
   "execution_count": 16,
   "id": "5476c0bc",
   "metadata": {
    "execution": {
     "iopub.execute_input": "2022-06-13T14:08:51.422588Z",
     "iopub.status.busy": "2022-06-13T14:08:51.422067Z",
     "iopub.status.idle": "2022-06-13T14:08:51.546702Z",
     "shell.execute_reply": "2022-06-13T14:08:51.546132Z"
    },
    "papermill": {
     "duration": 0.143802,
     "end_time": "2022-06-13T14:08:51.548373",
     "exception": false,
     "start_time": "2022-06-13T14:08:51.404571",
     "status": "completed"
    },
    "tags": []
   },
   "outputs": [
    {
     "data": {
      "text/plain": [
       "<AxesSubplot:xlabel='Soil Type', ylabel='count'>"
      ]
     },
     "execution_count": 16,
     "metadata": {},
     "output_type": "execute_result"
    },
    {
     "data": {
      "image/png": "[encoded data removed]",
      "text/plain": [
       "<Figure size 432x288 with 1 Axes>"
      ]
     },
     "metadata": {
      "needs_background": "light"
     },
     "output_type": "display_data"
    }
   ],
   "source": [
    "sns.countplot(df['Soil Type'],palette=\"rainbow\")"
   ]
  },
  {
   "cell_type": "code",
   "execution_count": 17,
   "id": "a3b75662",
   "metadata": {
    "execution": {
     "iopub.execute_input": "2022-06-13T14:08:51.584213Z",
     "iopub.status.busy": "2022-06-13T14:08:51.583566Z",
     "iopub.status.idle": "2022-06-13T14:08:51.589317Z",
     "shell.execute_reply": "2022-06-13T14:08:51.588853Z"
    },
    "papermill": {
     "duration": 0.023346,
     "end_time": "2022-06-13T14:08:51.591205",
     "exception": false,
     "start_time": "2022-06-13T14:08:51.567859",
     "status": "completed"
    },
    "tags": []
   },
   "outputs": [
    {
     "data": {
      "text/plain": [
       "Sugarcane      13\n",
       "Cotton         12\n",
       "Millets        11\n",
       "Paddy          10\n",
       "Pulses         10\n",
       "Wheat           9\n",
       "Tobacco         7\n",
       "Barley          7\n",
       "Oil seeds       7\n",
       "Ground Nuts     7\n",
       "Maize           6\n",
       "Name: Crop Type, dtype: int64"
      ]
     },
     "execution_count": 17,
     "metadata": {},
     "output_type": "execute_result"
    }
   ],
   "source": [
    "df['Crop Type'].value_counts()"
   ]
  },
  {
   "cell_type": "code",
   "execution_count": 18,
   "id": "8e3b7bc7",
   "metadata": {
    "execution": {
     "iopub.execute_input": "2022-06-13T14:08:51.622732Z",
     "iopub.status.busy": "2022-06-13T14:08:51.622249Z",
     "iopub.status.idle": "2022-06-13T14:08:51.767500Z",
     "shell.execute_reply": "2022-06-13T14:08:51.766899Z"
    },
    "papermill": {
     "duration": 0.162729,
     "end_time": "2022-06-13T14:08:51.769197",
     "exception": false,
     "start_time": "2022-06-13T14:08:51.606468",
     "status": "completed"
    },
    "tags": []
   },
   "outputs": [
    {
     "data": {
      "text/plain": [
       "<AxesSubplot:xlabel='Crop Type', ylabel='count'>"
      ]
     },
     "execution_count": 18,
     "metadata": {},
     "output_type": "execute_result"
    },
    {
     "data": {
      "image/png": "[encoded data removed]",
      "text/plain": [
       "<Figure size 720x288 with 1 Axes>"
      ]
     },
     "metadata": {},
     "output_type": "display_data"
    }
   ],
   "source": [
    "plt.figure(figsize=(10,4),facecolor='white')\n",
    "sns.countplot(df['Crop Type'],palette=\"rainbow\")"
   ]
  },
  {
   "cell_type": "markdown",
   "id": "783df429",
   "metadata": {
    "papermill": {
     "duration": 0.01494,
     "end_time": "2022-06-13T14:08:51.804604",
     "exception": false,
     "start_time": "2022-06-13T14:08:51.789664",
     "status": "completed"
    },
    "tags": []
   },
   "source": [
    "CHECKING OUTLIERS"
   ]
  },
  {
   "cell_type": "code",
   "execution_count": 19,
   "id": "e302fc13",
   "metadata": {
    "execution": {
     "iopub.execute_input": "2022-06-13T14:08:51.836660Z",
     "iopub.status.busy": "2022-06-13T14:08:51.836195Z",
     "iopub.status.idle": "2022-06-13T14:08:51.842249Z",
     "shell.execute_reply": "2022-06-13T14:08:51.841439Z"
    },
    "papermill": {
     "duration": 0.024241,
     "end_time": "2022-06-13T14:08:51.843890",
     "exception": false,
     "start_time": "2022-06-13T14:08:51.819649",
     "status": "completed"
    },
    "tags": []
   },
   "outputs": [],
   "source": [
    "y= df['Fertilizer Name'].copy()\n",
    "X= df.drop('Fertilizer Name',axis=1)"
   ]
  },
  {
   "cell_type": "code",
   "execution_count": 20,
   "id": "22d6842b",
   "metadata": {
    "execution": {
     "iopub.execute_input": "2022-06-13T14:08:51.876784Z",
     "iopub.status.busy": "2022-06-13T14:08:51.876443Z",
     "iopub.status.idle": "2022-06-13T14:08:51.881224Z",
     "shell.execute_reply": "2022-06-13T14:08:51.880401Z"
    },
    "papermill": {
     "duration": 0.022942,
     "end_time": "2022-06-13T14:08:51.882694",
     "exception": false,
     "start_time": "2022-06-13T14:08:51.859752",
     "status": "completed"
    },
    "tags": []
   },
   "outputs": [],
   "source": [
    "df.drop(columns=['Soil Type','Crop Type'],inplace=True)"
   ]
  },
  {
   "cell_type": "code",
   "execution_count": 21,
   "id": "d61dd5c2",
   "metadata": {
    "execution": {
     "iopub.execute_input": "2022-06-13T14:08:51.914862Z",
     "iopub.status.busy": "2022-06-13T14:08:51.914144Z",
     "iopub.status.idle": "2022-06-13T14:08:52.486944Z",
     "shell.execute_reply": "2022-06-13T14:08:52.486232Z"
    },
    "papermill": {
     "duration": 0.590485,
     "end_time": "2022-06-13T14:08:52.488837",
     "exception": false,
     "start_time": "2022-06-13T14:08:51.898352",
     "status": "completed"
    },
    "tags": []
   },
   "outputs": [
    {
     "data": {
      "image/png": "[encoded data removed]",
      "text/plain": [
       "<Figure size 720x360 with 1 Axes>"
      ]
     },
     "metadata": {
      "needs_background": "light"
     },
     "output_type": "display_data"
    },
    {
     "data": {
      "image/png": "[encoded data removed]",
      "text/plain": [
       "<Figure size 720x360 with 1 Axes>"
      ]
     },
     "metadata": {
      "needs_background": "light"
     },
     "output_type": "display_data"
    },
    {
     "data": {
      "image/png": "[encoded data removed]",
      "text/plain": [
       "<Figure size 720x360 with 1 Axes>"
      ]
     },
     "metadata": {
      "needs_background": "light"
     },
     "output_type": "display_data"
    },
    {
     "data": {
      "image/png": "[encoded data removed]",
      "text/plain": [
       "<Figure size 720x360 with 1 Axes>"
      ]
     },
     "metadata": {
      "needs_background": "light"
     },
     "output_type": "display_data"
    },
    {
     "data": {
      "image/png": "[encoded data removed]",
      "text/plain": [
       "<Figure size 720x360 with 1 Axes>"
      ]
     },
     "metadata": {
      "needs_background": "light"
     },
     "output_type": "display_data"
    },
    {
     "data": {
      "image/png": "[encoded data removed]",
      "text/plain": [
       "<Figure size 720x360 with 1 Axes>"
      ]
     },
     "metadata": {
      "needs_background": "light"
     },
     "output_type": "display_data"
    }
   ],
   "source": [
    "for column in df.columns[0:-1]:\n",
    "    plt.figure(figsize=(10,5))\n",
    "    sns.boxplot(x=(column),data=df)"
   ]
  },
  {
   "cell_type": "code",
   "execution_count": 22,
   "id": "a0793fde",
   "metadata": {
    "execution": {
     "iopub.execute_input": "2022-06-13T14:08:52.533139Z",
     "iopub.status.busy": "2022-06-13T14:08:52.532566Z",
     "iopub.status.idle": "2022-06-13T14:08:52.548425Z",
     "shell.execute_reply": "2022-06-13T14:08:52.547889Z"
    },
    "papermill": {
     "duration": 0.039753,
     "end_time": "2022-06-13T14:08:52.550022",
     "exception": false,
     "start_time": "2022-06-13T14:08:52.510269",
     "status": "completed"
    },
    "tags": []
   },
   "outputs": [],
   "source": [
    "for column in df.columns[0:-1]:\n",
    "    q1=df[column].quantile(0.25)\n",
    "    q2=df[column].quantile(0.75)\n",
    "    IQR=q2-q1\n",
    "    lower_limit=q1-(1.5*IQR)\n",
    "    upper_limit=q2+(1.5*IQR)\n",
    "    df[column]=np.where(df[column]<=lower_limit,lower_limit,df[column])\n",
    "    df[column]=np.where(df[column]>=upper_limit,upper_limit,df[column])\n",
    "    \n",
    "    \n",
    "    "
   ]
  },
  {
   "cell_type": "code",
   "execution_count": 23,
   "id": "b84fa8eb",
   "metadata": {
    "execution": {
     "iopub.execute_input": "2022-06-13T14:08:52.583649Z",
     "iopub.status.busy": "2022-06-13T14:08:52.583156Z",
     "iopub.status.idle": "2022-06-13T14:08:53.159764Z",
     "shell.execute_reply": "2022-06-13T14:08:53.159004Z"
    },
    "papermill": {
     "duration": 0.59615,
     "end_time": "2022-06-13T14:08:53.162192",
     "exception": false,
     "start_time": "2022-06-13T14:08:52.566042",
     "status": "completed"
    },
    "tags": []
   },
   "outputs": [
    {
     "data": {
      "image/png": "[encoded data removed]",
      "text/plain": [
       "<Figure size 720x360 with 1 Axes>"
      ]
     },
     "metadata": {
      "needs_background": "light"
     },
     "output_type": "display_data"
    },
    {
     "data": {
      "image/png": "[encoded data removed]",
      "text/plain": [
       "<Figure size 720x360 with 1 Axes>"
      ]
     },
     "metadata": {
      "needs_background": "light"
     },
     "output_type": "display_data"
    },
    {
     "data": {
      "image/png": "[encoded data removed]",
      "text/plain": [
       "<Figure size 720x360 with 1 Axes>"
      ]
     },
     "metadata": {
      "needs_background": "light"
     },
     "output_type": "display_data"
    },
    {
     "data": {
      "image/png": "[encoded data removed]",
      "text/plain": [
       "<Figure size 720x360 with 1 Axes>"
      ]
     },
     "metadata": {
      "needs_background": "light"
     },
     "output_type": "display_data"
    },
    {
     "data": {
      "image/png": "[encoded data removed]",
      "text/plain": [
       "<Figure size 720x360 with 1 Axes>"
      ]
     },
     "metadata": {
      "needs_background": "light"
     },
     "output_type": "display_data"
    },
    {
     "data": {
      "image/png": "[encoded data removed]",
      "text/plain": [
       "<Figure size 720x360 with 1 Axes>"
      ]
     },
     "metadata": {
      "needs_background": "light"
     },
     "output_type": "display_data"
    }
   ],
   "source": [
    "for column in df.columns[0:-1]:\n",
    "    plt.figure(figsize=(10,5))\n",
    "    sns.boxplot(x=(column),data=df)"
   ]
  },
  {
   "cell_type": "markdown",
   "id": "40a4121a",
   "metadata": {
    "papermill": {
     "duration": 0.021845,
     "end_time": "2022-06-13T14:08:53.206464",
     "exception": false,
     "start_time": "2022-06-13T14:08:53.184619",
     "status": "completed"
    },
    "tags": []
   },
   "source": [
    "Encoding the catogorical feature columns"
   ]
  },
  {
   "cell_type": "code",
   "execution_count": 24,
   "id": "0266cb8f",
   "metadata": {
    "execution": {
     "iopub.execute_input": "2022-06-13T14:08:53.242090Z",
     "iopub.status.busy": "2022-06-13T14:08:53.241507Z",
     "iopub.status.idle": "2022-06-13T14:08:53.248038Z",
     "shell.execute_reply": "2022-06-13T14:08:53.247543Z"
    },
    "papermill": {
     "duration": 0.025427,
     "end_time": "2022-06-13T14:08:53.249450",
     "exception": false,
     "start_time": "2022-06-13T14:08:53.224023",
     "status": "completed"
    },
    "tags": []
   },
   "outputs": [
    {
     "data": {
      "text/plain": [
       "Soil Type     5\n",
       "Crop Type    11\n",
       "dtype: int64"
      ]
     },
     "execution_count": 24,
     "metadata": {},
     "output_type": "execute_result"
    }
   ],
   "source": [
    "X[['Soil Type', 'Crop Type']].nunique()"
   ]
  },
  {
   "cell_type": "code",
   "execution_count": 25,
   "id": "ff02a103",
   "metadata": {
    "execution": {
     "iopub.execute_input": "2022-06-13T14:08:53.285351Z",
     "iopub.status.busy": "2022-06-13T14:08:53.285009Z",
     "iopub.status.idle": "2022-06-13T14:08:53.292614Z",
     "shell.execute_reply": "2022-06-13T14:08:53.291914Z"
    },
    "papermill": {
     "duration": 0.027492,
     "end_time": "2022-06-13T14:08:53.294425",
     "exception": false,
     "start_time": "2022-06-13T14:08:53.266933",
     "status": "completed"
    },
    "tags": []
   },
   "outputs": [],
   "source": [
    "dumm=pd.get_dummies(X[['Soil Type', 'Crop Type']])"
   ]
  },
  {
   "cell_type": "code",
   "execution_count": 26,
   "id": "6df5ade6",
   "metadata": {
    "execution": {
     "iopub.execute_input": "2022-06-13T14:08:53.350299Z",
     "iopub.status.busy": "2022-06-13T14:08:53.349826Z",
     "iopub.status.idle": "2022-06-13T14:08:53.364490Z",
     "shell.execute_reply": "2022-06-13T14:08:53.363764Z"
    },
    "papermill": {
     "duration": 0.044594,
     "end_time": "2022-06-13T14:08:53.366249",
     "exception": false,
     "start_time": "2022-06-13T14:08:53.321655",
     "status": "completed"
    },
    "tags": []
   },
   "outputs": [
    {
     "data": {
      "text/html": [
       "<div>\n",
       "<style scoped>\n",
       "    .dataframe tbody tr th:only-of-type {\n",
       "        vertical-align: middle;\n",
       "    }\n",
       "\n",
       "    .dataframe tbody tr th {\n",
       "        vertical-align: top;\n",
       "    }\n",
       "\n",
       "    .dataframe thead th {\n",
       "        text-align: right;\n",
       "    }\n",
       "</style>\n",
       "<table border=\"1\" class=\"dataframe\">\n",
       "  <thead>\n",
       "    <tr style=\"text-align: right;\">\n",
       "      <th></th>\n",
       "      <th>Soil Type_Black</th>\n",
       "      <th>Soil Type_Clayey</th>\n",
       "      <th>Soil Type_Loamy</th>\n",
       "      <th>Soil Type_Red</th>\n",
       "      <th>Soil Type_Sandy</th>\n",
       "      <th>Crop Type_Barley</th>\n",
       "      <th>Crop Type_Cotton</th>\n",
       "      <th>Crop Type_Ground Nuts</th>\n",
       "      <th>Crop Type_Maize</th>\n",
       "      <th>Crop Type_Millets</th>\n",
       "      <th>Crop Type_Oil seeds</th>\n",
       "      <th>Crop Type_Paddy</th>\n",
       "      <th>Crop Type_Pulses</th>\n",
       "      <th>Crop Type_Sugarcane</th>\n",
       "      <th>Crop Type_Tobacco</th>\n",
       "      <th>Crop Type_Wheat</th>\n",
       "    </tr>\n",
       "  </thead>\n",
       "  <tbody>\n",
       "    <tr>\n",
       "      <th>0</th>\n",
       "      <td>0</td>\n",
       "      <td>0</td>\n",
       "      <td>0</td>\n",
       "      <td>0</td>\n",
       "      <td>1</td>\n",
       "      <td>0</td>\n",
       "      <td>0</td>\n",
       "      <td>0</td>\n",
       "      <td>1</td>\n",
       "      <td>0</td>\n",
       "      <td>0</td>\n",
       "      <td>0</td>\n",
       "      <td>0</td>\n",
       "      <td>0</td>\n",
       "      <td>0</td>\n",
       "      <td>0</td>\n",
       "    </tr>\n",
       "    <tr>\n",
       "      <th>1</th>\n",
       "      <td>0</td>\n",
       "      <td>0</td>\n",
       "      <td>1</td>\n",
       "      <td>0</td>\n",
       "      <td>0</td>\n",
       "      <td>0</td>\n",
       "      <td>0</td>\n",
       "      <td>0</td>\n",
       "      <td>0</td>\n",
       "      <td>0</td>\n",
       "      <td>0</td>\n",
       "      <td>0</td>\n",
       "      <td>0</td>\n",
       "      <td>1</td>\n",
       "      <td>0</td>\n",
       "      <td>0</td>\n",
       "    </tr>\n",
       "    <tr>\n",
       "      <th>2</th>\n",
       "      <td>1</td>\n",
       "      <td>0</td>\n",
       "      <td>0</td>\n",
       "      <td>0</td>\n",
       "      <td>0</td>\n",
       "      <td>0</td>\n",
       "      <td>1</td>\n",
       "      <td>0</td>\n",
       "      <td>0</td>\n",
       "      <td>0</td>\n",
       "      <td>0</td>\n",
       "      <td>0</td>\n",
       "      <td>0</td>\n",
       "      <td>0</td>\n",
       "      <td>0</td>\n",
       "      <td>0</td>\n",
       "    </tr>\n",
       "    <tr>\n",
       "      <th>3</th>\n",
       "      <td>0</td>\n",
       "      <td>0</td>\n",
       "      <td>0</td>\n",
       "      <td>1</td>\n",
       "      <td>0</td>\n",
       "      <td>0</td>\n",
       "      <td>0</td>\n",
       "      <td>0</td>\n",
       "      <td>0</td>\n",
       "      <td>0</td>\n",
       "      <td>0</td>\n",
       "      <td>0</td>\n",
       "      <td>0</td>\n",
       "      <td>0</td>\n",
       "      <td>1</td>\n",
       "      <td>0</td>\n",
       "    </tr>\n",
       "    <tr>\n",
       "      <th>4</th>\n",
       "      <td>0</td>\n",
       "      <td>1</td>\n",
       "      <td>0</td>\n",
       "      <td>0</td>\n",
       "      <td>0</td>\n",
       "      <td>0</td>\n",
       "      <td>0</td>\n",
       "      <td>0</td>\n",
       "      <td>0</td>\n",
       "      <td>0</td>\n",
       "      <td>0</td>\n",
       "      <td>1</td>\n",
       "      <td>0</td>\n",
       "      <td>0</td>\n",
       "      <td>0</td>\n",
       "      <td>0</td>\n",
       "    </tr>\n",
       "    <tr>\n",
       "      <th>...</th>\n",
       "      <td>...</td>\n",
       "      <td>...</td>\n",
       "      <td>...</td>\n",
       "      <td>...</td>\n",
       "      <td>...</td>\n",
       "      <td>...</td>\n",
       "      <td>...</td>\n",
       "      <td>...</td>\n",
       "      <td>...</td>\n",
       "      <td>...</td>\n",
       "      <td>...</td>\n",
       "      <td>...</td>\n",
       "      <td>...</td>\n",
       "      <td>...</td>\n",
       "      <td>...</td>\n",
       "      <td>...</td>\n",
       "    </tr>\n",
       "    <tr>\n",
       "      <th>94</th>\n",
       "      <td>0</td>\n",
       "      <td>1</td>\n",
       "      <td>0</td>\n",
       "      <td>0</td>\n",
       "      <td>0</td>\n",
       "      <td>0</td>\n",
       "      <td>0</td>\n",
       "      <td>0</td>\n",
       "      <td>0</td>\n",
       "      <td>0</td>\n",
       "      <td>0</td>\n",
       "      <td>0</td>\n",
       "      <td>1</td>\n",
       "      <td>0</td>\n",
       "      <td>0</td>\n",
       "      <td>0</td>\n",
       "    </tr>\n",
       "    <tr>\n",
       "      <th>95</th>\n",
       "      <td>0</td>\n",
       "      <td>0</td>\n",
       "      <td>0</td>\n",
       "      <td>1</td>\n",
       "      <td>0</td>\n",
       "      <td>0</td>\n",
       "      <td>0</td>\n",
       "      <td>0</td>\n",
       "      <td>0</td>\n",
       "      <td>0</td>\n",
       "      <td>0</td>\n",
       "      <td>0</td>\n",
       "      <td>0</td>\n",
       "      <td>0</td>\n",
       "      <td>1</td>\n",
       "      <td>0</td>\n",
       "    </tr>\n",
       "    <tr>\n",
       "      <th>96</th>\n",
       "      <td>0</td>\n",
       "      <td>0</td>\n",
       "      <td>1</td>\n",
       "      <td>0</td>\n",
       "      <td>0</td>\n",
       "      <td>0</td>\n",
       "      <td>0</td>\n",
       "      <td>0</td>\n",
       "      <td>0</td>\n",
       "      <td>0</td>\n",
       "      <td>0</td>\n",
       "      <td>0</td>\n",
       "      <td>0</td>\n",
       "      <td>0</td>\n",
       "      <td>0</td>\n",
       "      <td>1</td>\n",
       "    </tr>\n",
       "    <tr>\n",
       "      <th>97</th>\n",
       "      <td>0</td>\n",
       "      <td>0</td>\n",
       "      <td>0</td>\n",
       "      <td>0</td>\n",
       "      <td>1</td>\n",
       "      <td>0</td>\n",
       "      <td>0</td>\n",
       "      <td>0</td>\n",
       "      <td>0</td>\n",
       "      <td>1</td>\n",
       "      <td>0</td>\n",
       "      <td>0</td>\n",
       "      <td>0</td>\n",
       "      <td>0</td>\n",
       "      <td>0</td>\n",
       "      <td>0</td>\n",
       "    </tr>\n",
       "    <tr>\n",
       "      <th>98</th>\n",
       "      <td>1</td>\n",
       "      <td>0</td>\n",
       "      <td>0</td>\n",
       "      <td>0</td>\n",
       "      <td>0</td>\n",
       "      <td>0</td>\n",
       "      <td>0</td>\n",
       "      <td>0</td>\n",
       "      <td>0</td>\n",
       "      <td>0</td>\n",
       "      <td>0</td>\n",
       "      <td>0</td>\n",
       "      <td>0</td>\n",
       "      <td>1</td>\n",
       "      <td>0</td>\n",
       "      <td>0</td>\n",
       "    </tr>\n",
       "  </tbody>\n",
       "</table>\n",
       "<p>99 rows × 16 columns</p>\n",
       "</div>"
      ],
      "text/plain": [
       "    Soil Type_Black  Soil Type_Clayey  Soil Type_Loamy  Soil Type_Red  \\\n",
       "0                 0                 0                0              0   \n",
       "1                 0                 0                1              0   \n",
       "2                 1                 0                0              0   \n",
       "3                 0                 0                0              1   \n",
       "4                 0                 1                0              0   \n",
       "..              ...               ...              ...            ...   \n",
       "94                0                 1                0              0   \n",
       "95                0                 0                0              1   \n",
       "96                0                 0                1              0   \n",
       "97                0                 0                0              0   \n",
       "98                1                 0                0              0   \n",
       "\n",
       "    Soil Type_Sandy  Crop Type_Barley  Crop Type_Cotton  \\\n",
       "0                 1                 0                 0   \n",
       "1                 0                 0                 0   \n",
       "2                 0                 0                 1   \n",
       "3                 0                 0                 0   \n",
       "4                 0                 0                 0   \n",
       "..              ...               ...               ...   \n",
       "94                0                 0                 0   \n",
       "95                0                 0                 0   \n",
       "96                0                 0                 0   \n",
       "97                1                 0                 0   \n",
       "98                0                 0                 0   \n",
       "\n",
       "    Crop Type_Ground Nuts  Crop Type_Maize  Crop Type_Millets  \\\n",
       "0                       0                1                  0   \n",
       "1                       0                0                  0   \n",
       "2                       0                0                  0   \n",
       "3                       0                0                  0   \n",
       "4                       0                0                  0   \n",
       "..                    ...              ...                ...   \n",
       "94                      0                0                  0   \n",
       "95                      0                0                  0   \n",
       "96                      0                0                  0   \n",
       "97                      0                0                  1   \n",
       "98                      0                0                  0   \n",
       "\n",
       "    Crop Type_Oil seeds  Crop Type_Paddy  Crop Type_Pulses  \\\n",
       "0                     0                0                 0   \n",
       "1                     0                0                 0   \n",
       "2                     0                0                 0   \n",
       "3                     0                0                 0   \n",
       "4                     0                1                 0   \n",
       "..                  ...              ...               ...   \n",
       "94                    0                0                 1   \n",
       "95                    0                0                 0   \n",
       "96                    0                0                 0   \n",
       "97                    0                0                 0   \n",
       "98                    0                0                 0   \n",
       "\n",
       "    Crop Type_Sugarcane  Crop Type_Tobacco  Crop Type_Wheat  \n",
       "0                     0                  0                0  \n",
       "1                     1                  0                0  \n",
       "2                     0                  0                0  \n",
       "3                     0                  1                0  \n",
       "4                     0                  0                0  \n",
       "..                  ...                ...              ...  \n",
       "94                    0                  0                0  \n",
       "95                    0                  1                0  \n",
       "96                    0                  0                1  \n",
       "97                    0                  0                0  \n",
       "98                    1                  0                0  \n",
       "\n",
       "[99 rows x 16 columns]"
      ]
     },
     "execution_count": 26,
     "metadata": {},
     "output_type": "execute_result"
    }
   ],
   "source": [
    "dumm"
   ]
  },
  {
   "cell_type": "code",
   "execution_count": 27,
   "id": "e93f2fc7",
   "metadata": {
    "execution": {
     "iopub.execute_input": "2022-06-13T14:08:53.423308Z",
     "iopub.status.busy": "2022-06-13T14:08:53.422990Z",
     "iopub.status.idle": "2022-06-13T14:08:53.430035Z",
     "shell.execute_reply": "2022-06-13T14:08:53.429527Z"
    },
    "papermill": {
     "duration": 0.037301,
     "end_time": "2022-06-13T14:08:53.431533",
     "exception": false,
     "start_time": "2022-06-13T14:08:53.394232",
     "status": "completed"
    },
    "tags": []
   },
   "outputs": [],
   "source": [
    "df=df.join(dumm)"
   ]
  },
  {
   "cell_type": "code",
   "execution_count": 28,
   "id": "90361da2",
   "metadata": {
    "execution": {
     "iopub.execute_input": "2022-06-13T14:08:53.467009Z",
     "iopub.status.busy": "2022-06-13T14:08:53.466360Z",
     "iopub.status.idle": "2022-06-13T14:08:53.484786Z",
     "shell.execute_reply": "2022-06-13T14:08:53.484140Z"
    },
    "papermill": {
     "duration": 0.037693,
     "end_time": "2022-06-13T14:08:53.486302",
     "exception": false,
     "start_time": "2022-06-13T14:08:53.448609",
     "status": "completed"
    },
    "tags": []
   },
   "outputs": [
    {
     "data": {
      "text/html": [
       "<div>\n",
       "<style scoped>\n",
       "    .dataframe tbody tr th:only-of-type {\n",
       "        vertical-align: middle;\n",
       "    }\n",
       "\n",
       "    .dataframe tbody tr th {\n",
       "        vertical-align: top;\n",
       "    }\n",
       "\n",
       "    .dataframe thead th {\n",
       "        text-align: right;\n",
       "    }\n",
       "</style>\n",
       "<table border=\"1\" class=\"dataframe\">\n",
       "  <thead>\n",
       "    <tr style=\"text-align: right;\">\n",
       "      <th></th>\n",
       "      <th>Temparature</th>\n",
       "      <th>Humidity</th>\n",
       "      <th>Moisture</th>\n",
       "      <th>Nitrogen</th>\n",
       "      <th>Potassium</th>\n",
       "      <th>Phosphorous</th>\n",
       "      <th>Fertilizer Name</th>\n",
       "      <th>Soil Type_Black</th>\n",
       "      <th>Soil Type_Clayey</th>\n",
       "      <th>Soil Type_Loamy</th>\n",
       "      <th>...</th>\n",
       "      <th>Crop Type_Cotton</th>\n",
       "      <th>Crop Type_Ground Nuts</th>\n",
       "      <th>Crop Type_Maize</th>\n",
       "      <th>Crop Type_Millets</th>\n",
       "      <th>Crop Type_Oil seeds</th>\n",
       "      <th>Crop Type_Paddy</th>\n",
       "      <th>Crop Type_Pulses</th>\n",
       "      <th>Crop Type_Sugarcane</th>\n",
       "      <th>Crop Type_Tobacco</th>\n",
       "      <th>Crop Type_Wheat</th>\n",
       "    </tr>\n",
       "  </thead>\n",
       "  <tbody>\n",
       "    <tr>\n",
       "      <th>0</th>\n",
       "      <td>26.0</td>\n",
       "      <td>52.0</td>\n",
       "      <td>38.0</td>\n",
       "      <td>37.0</td>\n",
       "      <td>0.0</td>\n",
       "      <td>0.0</td>\n",
       "      <td>Urea</td>\n",
       "      <td>0</td>\n",
       "      <td>0</td>\n",
       "      <td>0</td>\n",
       "      <td>...</td>\n",
       "      <td>0</td>\n",
       "      <td>0</td>\n",
       "      <td>1</td>\n",
       "      <td>0</td>\n",
       "      <td>0</td>\n",
       "      <td>0</td>\n",
       "      <td>0</td>\n",
       "      <td>0</td>\n",
       "      <td>0</td>\n",
       "      <td>0</td>\n",
       "    </tr>\n",
       "    <tr>\n",
       "      <th>1</th>\n",
       "      <td>29.0</td>\n",
       "      <td>52.0</td>\n",
       "      <td>45.0</td>\n",
       "      <td>12.0</td>\n",
       "      <td>0.0</td>\n",
       "      <td>36.0</td>\n",
       "      <td>DAP</td>\n",
       "      <td>0</td>\n",
       "      <td>0</td>\n",
       "      <td>1</td>\n",
       "      <td>...</td>\n",
       "      <td>0</td>\n",
       "      <td>0</td>\n",
       "      <td>0</td>\n",
       "      <td>0</td>\n",
       "      <td>0</td>\n",
       "      <td>0</td>\n",
       "      <td>0</td>\n",
       "      <td>1</td>\n",
       "      <td>0</td>\n",
       "      <td>0</td>\n",
       "    </tr>\n",
       "    <tr>\n",
       "      <th>2</th>\n",
       "      <td>34.0</td>\n",
       "      <td>65.0</td>\n",
       "      <td>62.0</td>\n",
       "      <td>7.0</td>\n",
       "      <td>9.0</td>\n",
       "      <td>30.0</td>\n",
       "      <td>14-35-14</td>\n",
       "      <td>1</td>\n",
       "      <td>0</td>\n",
       "      <td>0</td>\n",
       "      <td>...</td>\n",
       "      <td>1</td>\n",
       "      <td>0</td>\n",
       "      <td>0</td>\n",
       "      <td>0</td>\n",
       "      <td>0</td>\n",
       "      <td>0</td>\n",
       "      <td>0</td>\n",
       "      <td>0</td>\n",
       "      <td>0</td>\n",
       "      <td>0</td>\n",
       "    </tr>\n",
       "    <tr>\n",
       "      <th>3</th>\n",
       "      <td>32.0</td>\n",
       "      <td>62.0</td>\n",
       "      <td>34.0</td>\n",
       "      <td>22.0</td>\n",
       "      <td>0.0</td>\n",
       "      <td>20.0</td>\n",
       "      <td>28-28</td>\n",
       "      <td>0</td>\n",
       "      <td>0</td>\n",
       "      <td>0</td>\n",
       "      <td>...</td>\n",
       "      <td>0</td>\n",
       "      <td>0</td>\n",
       "      <td>0</td>\n",
       "      <td>0</td>\n",
       "      <td>0</td>\n",
       "      <td>0</td>\n",
       "      <td>0</td>\n",
       "      <td>0</td>\n",
       "      <td>1</td>\n",
       "      <td>0</td>\n",
       "    </tr>\n",
       "    <tr>\n",
       "      <th>4</th>\n",
       "      <td>28.0</td>\n",
       "      <td>54.0</td>\n",
       "      <td>46.0</td>\n",
       "      <td>35.0</td>\n",
       "      <td>0.0</td>\n",
       "      <td>0.0</td>\n",
       "      <td>Urea</td>\n",
       "      <td>0</td>\n",
       "      <td>1</td>\n",
       "      <td>0</td>\n",
       "      <td>...</td>\n",
       "      <td>0</td>\n",
       "      <td>0</td>\n",
       "      <td>0</td>\n",
       "      <td>0</td>\n",
       "      <td>0</td>\n",
       "      <td>1</td>\n",
       "      <td>0</td>\n",
       "      <td>0</td>\n",
       "      <td>0</td>\n",
       "      <td>0</td>\n",
       "    </tr>\n",
       "  </tbody>\n",
       "</table>\n",
       "<p>5 rows × 23 columns</p>\n",
       "</div>"
      ],
      "text/plain": [
       "   Temparature  Humidity   Moisture  Nitrogen  Potassium  Phosphorous  \\\n",
       "0         26.0       52.0      38.0      37.0        0.0          0.0   \n",
       "1         29.0       52.0      45.0      12.0        0.0         36.0   \n",
       "2         34.0       65.0      62.0       7.0        9.0         30.0   \n",
       "3         32.0       62.0      34.0      22.0        0.0         20.0   \n",
       "4         28.0       54.0      46.0      35.0        0.0          0.0   \n",
       "\n",
       "  Fertilizer Name  Soil Type_Black  Soil Type_Clayey  Soil Type_Loamy  ...  \\\n",
       "0            Urea                0                 0                0  ...   \n",
       "1             DAP                0                 0                1  ...   \n",
       "2        14-35-14                1                 0                0  ...   \n",
       "3           28-28                0                 0                0  ...   \n",
       "4            Urea                0                 1                0  ...   \n",
       "\n",
       "   Crop Type_Cotton  Crop Type_Ground Nuts  Crop Type_Maize  \\\n",
       "0                 0                      0                1   \n",
       "1                 0                      0                0   \n",
       "2                 1                      0                0   \n",
       "3                 0                      0                0   \n",
       "4                 0                      0                0   \n",
       "\n",
       "   Crop Type_Millets  Crop Type_Oil seeds  Crop Type_Paddy  Crop Type_Pulses  \\\n",
       "0                  0                    0                0                 0   \n",
       "1                  0                    0                0                 0   \n",
       "2                  0                    0                0                 0   \n",
       "3                  0                    0                0                 0   \n",
       "4                  0                    0                1                 0   \n",
       "\n",
       "   Crop Type_Sugarcane  Crop Type_Tobacco  Crop Type_Wheat  \n",
       "0                    0                  0                0  \n",
       "1                    1                  0                0  \n",
       "2                    0                  0                0  \n",
       "3                    0                  1                0  \n",
       "4                    0                  0                0  \n",
       "\n",
       "[5 rows x 23 columns]"
      ]
     },
     "execution_count": 28,
     "metadata": {},
     "output_type": "execute_result"
    }
   ],
   "source": [
    "df.head()"
   ]
  },
  {
   "cell_type": "code",
   "execution_count": 29,
   "id": "008a8ff4",
   "metadata": {
    "execution": {
     "iopub.execute_input": "2022-06-13T14:08:53.523198Z",
     "iopub.status.busy": "2022-06-13T14:08:53.522664Z",
     "iopub.status.idle": "2022-06-13T14:08:53.551821Z",
     "shell.execute_reply": "2022-06-13T14:08:53.551227Z"
    },
    "papermill": {
     "duration": 0.049102,
     "end_time": "2022-06-13T14:08:53.553386",
     "exception": false,
     "start_time": "2022-06-13T14:08:53.504284",
     "status": "completed"
    },
    "tags": []
   },
   "outputs": [
    {
     "data": {
      "text/html": [
       "<div>\n",
       "<style scoped>\n",
       "    .dataframe tbody tr th:only-of-type {\n",
       "        vertical-align: middle;\n",
       "    }\n",
       "\n",
       "    .dataframe tbody tr th {\n",
       "        vertical-align: top;\n",
       "    }\n",
       "\n",
       "    .dataframe thead th {\n",
       "        text-align: right;\n",
       "    }\n",
       "</style>\n",
       "<table border=\"1\" class=\"dataframe\">\n",
       "  <thead>\n",
       "    <tr style=\"text-align: right;\">\n",
       "      <th></th>\n",
       "      <th>Temparature</th>\n",
       "      <th>Humidity</th>\n",
       "      <th>Moisture</th>\n",
       "      <th>Nitrogen</th>\n",
       "      <th>Potassium</th>\n",
       "      <th>Phosphorous</th>\n",
       "      <th>Soil Type_Black</th>\n",
       "      <th>Soil Type_Clayey</th>\n",
       "      <th>Soil Type_Loamy</th>\n",
       "      <th>Soil Type_Red</th>\n",
       "      <th>...</th>\n",
       "      <th>Crop Type_Cotton</th>\n",
       "      <th>Crop Type_Ground Nuts</th>\n",
       "      <th>Crop Type_Maize</th>\n",
       "      <th>Crop Type_Millets</th>\n",
       "      <th>Crop Type_Oil seeds</th>\n",
       "      <th>Crop Type_Paddy</th>\n",
       "      <th>Crop Type_Pulses</th>\n",
       "      <th>Crop Type_Sugarcane</th>\n",
       "      <th>Crop Type_Tobacco</th>\n",
       "      <th>Crop Type_Wheat</th>\n",
       "    </tr>\n",
       "  </thead>\n",
       "  <tbody>\n",
       "    <tr>\n",
       "      <th>Temparature</th>\n",
       "      <td>1.000000</td>\n",
       "      <td>0.973164</td>\n",
       "      <td>0.091222</td>\n",
       "      <td>-0.033771</td>\n",
       "      <td>-0.023282</td>\n",
       "      <td>0.207545</td>\n",
       "      <td>-0.002751</td>\n",
       "      <td>-0.113037</td>\n",
       "      <td>0.057156</td>\n",
       "      <td>0.107662</td>\n",
       "      <td>...</td>\n",
       "      <td>0.014265</td>\n",
       "      <td>-0.011080</td>\n",
       "      <td>-0.093509</td>\n",
       "      <td>-0.084040</td>\n",
       "      <td>0.000228</td>\n",
       "      <td>0.088228</td>\n",
       "      <td>-0.238837</td>\n",
       "      <td>-0.031557</td>\n",
       "      <td>0.124623</td>\n",
       "      <td>0.256669</td>\n",
       "    </tr>\n",
       "    <tr>\n",
       "      <th>Humidity</th>\n",
       "      <td>0.973164</td>\n",
       "      <td>1.000000</td>\n",
       "      <td>0.091342</td>\n",
       "      <td>-0.060646</td>\n",
       "      <td>-0.003594</td>\n",
       "      <td>0.204044</td>\n",
       "      <td>-0.017121</td>\n",
       "      <td>-0.130016</td>\n",
       "      <td>0.050253</td>\n",
       "      <td>0.141787</td>\n",
       "      <td>...</td>\n",
       "      <td>0.027599</td>\n",
       "      <td>-0.000411</td>\n",
       "      <td>-0.079476</td>\n",
       "      <td>-0.114314</td>\n",
       "      <td>-0.000411</td>\n",
       "      <td>0.072020</td>\n",
       "      <td>-0.245254</td>\n",
       "      <td>-0.035872</td>\n",
       "      <td>0.155563</td>\n",
       "      <td>0.251766</td>\n",
       "    </tr>\n",
       "    <tr>\n",
       "      <th>Moisture</th>\n",
       "      <td>0.091222</td>\n",
       "      <td>0.091342</td>\n",
       "      <td>1.000000</td>\n",
       "      <td>-0.095945</td>\n",
       "      <td>0.027845</td>\n",
       "      <td>0.009276</td>\n",
       "      <td>0.065288</td>\n",
       "      <td>-0.241463</td>\n",
       "      <td>0.379359</td>\n",
       "      <td>-0.119972</td>\n",
       "      <td>...</td>\n",
       "      <td>0.661839</td>\n",
       "      <td>-0.246924</td>\n",
       "      <td>-0.022992</td>\n",
       "      <td>-0.149034</td>\n",
       "      <td>-0.271521</td>\n",
       "      <td>-0.050269</td>\n",
       "      <td>-0.271455</td>\n",
       "      <td>0.276383</td>\n",
       "      <td>-0.285576</td>\n",
       "      <td>0.192260</td>\n",
       "    </tr>\n",
       "    <tr>\n",
       "      <th>Nitrogen</th>\n",
       "      <td>-0.033771</td>\n",
       "      <td>-0.060646</td>\n",
       "      <td>-0.095945</td>\n",
       "      <td>1.000000</td>\n",
       "      <td>-0.500282</td>\n",
       "      <td>-0.686971</td>\n",
       "      <td>0.130520</td>\n",
       "      <td>0.030122</td>\n",
       "      <td>-0.017322</td>\n",
       "      <td>-0.009496</td>\n",
       "      <td>...</td>\n",
       "      <td>-0.080207</td>\n",
       "      <td>0.104605</td>\n",
       "      <td>-0.012672</td>\n",
       "      <td>0.130894</td>\n",
       "      <td>0.002173</td>\n",
       "      <td>0.054920</td>\n",
       "      <td>-0.014786</td>\n",
       "      <td>-0.144648</td>\n",
       "      <td>0.005587</td>\n",
       "      <td>0.121226</td>\n",
       "    </tr>\n",
       "    <tr>\n",
       "      <th>Potassium</th>\n",
       "      <td>-0.023282</td>\n",
       "      <td>-0.003594</td>\n",
       "      <td>0.027845</td>\n",
       "      <td>-0.500282</td>\n",
       "      <td>1.000000</td>\n",
       "      <td>0.089409</td>\n",
       "      <td>-0.116420</td>\n",
       "      <td>0.047617</td>\n",
       "      <td>0.030161</td>\n",
       "      <td>0.021345</td>\n",
       "      <td>...</td>\n",
       "      <td>-0.002925</td>\n",
       "      <td>-0.065895</td>\n",
       "      <td>0.100685</td>\n",
       "      <td>-0.206973</td>\n",
       "      <td>-0.052240</td>\n",
       "      <td>0.017203</td>\n",
       "      <td>0.046241</td>\n",
       "      <td>0.057392</td>\n",
       "      <td>0.070653</td>\n",
       "      <td>-0.026841</td>\n",
       "    </tr>\n",
       "    <tr>\n",
       "      <th>Phosphorous</th>\n",
       "      <td>0.207545</td>\n",
       "      <td>0.204044</td>\n",
       "      <td>0.009276</td>\n",
       "      <td>-0.686971</td>\n",
       "      <td>0.089409</td>\n",
       "      <td>1.000000</td>\n",
       "      <td>-0.165494</td>\n",
       "      <td>-0.064019</td>\n",
       "      <td>0.000503</td>\n",
       "      <td>0.123352</td>\n",
       "      <td>...</td>\n",
       "      <td>0.144783</td>\n",
       "      <td>0.061002</td>\n",
       "      <td>0.001148</td>\n",
       "      <td>-0.111862</td>\n",
       "      <td>-0.027162</td>\n",
       "      <td>-0.057648</td>\n",
       "      <td>-0.027650</td>\n",
       "      <td>-0.028725</td>\n",
       "      <td>0.013982</td>\n",
       "      <td>-0.098146</td>\n",
       "    </tr>\n",
       "    <tr>\n",
       "      <th>Soil Type_Black</th>\n",
       "      <td>-0.002751</td>\n",
       "      <td>-0.017121</td>\n",
       "      <td>0.065288</td>\n",
       "      <td>0.130520</td>\n",
       "      <td>-0.116420</td>\n",
       "      <td>-0.165494</td>\n",
       "      <td>1.000000</td>\n",
       "      <td>-0.245207</td>\n",
       "      <td>-0.252868</td>\n",
       "      <td>-0.237500</td>\n",
       "      <td>...</td>\n",
       "      <td>0.133364</td>\n",
       "      <td>-0.134427</td>\n",
       "      <td>-0.123784</td>\n",
       "      <td>0.154164</td>\n",
       "      <td>0.566009</td>\n",
       "      <td>-0.163357</td>\n",
       "      <td>-0.163357</td>\n",
       "      <td>0.114299</td>\n",
       "      <td>-0.134427</td>\n",
       "      <td>-0.154110</td>\n",
       "    </tr>\n",
       "    <tr>\n",
       "      <th>Soil Type_Clayey</th>\n",
       "      <td>-0.113037</td>\n",
       "      <td>-0.130016</td>\n",
       "      <td>-0.241463</td>\n",
       "      <td>0.030122</td>\n",
       "      <td>0.047617</td>\n",
       "      <td>-0.064019</td>\n",
       "      <td>-0.245207</td>\n",
       "      <td>1.000000</td>\n",
       "      <td>-0.261074</td>\n",
       "      <td>-0.245207</td>\n",
       "      <td>...</td>\n",
       "      <td>-0.186867</td>\n",
       "      <td>-0.138789</td>\n",
       "      <td>-0.127801</td>\n",
       "      <td>-0.177892</td>\n",
       "      <td>-0.138789</td>\n",
       "      <td>0.666198</td>\n",
       "      <td>0.666198</td>\n",
       "      <td>-0.195625</td>\n",
       "      <td>-0.138789</td>\n",
       "      <td>-0.159111</td>\n",
       "    </tr>\n",
       "    <tr>\n",
       "      <th>Soil Type_Loamy</th>\n",
       "      <td>0.057156</td>\n",
       "      <td>0.050253</td>\n",
       "      <td>0.379359</td>\n",
       "      <td>-0.017322</td>\n",
       "      <td>0.030161</td>\n",
       "      <td>0.000503</td>\n",
       "      <td>-0.252868</td>\n",
       "      <td>-0.261074</td>\n",
       "      <td>1.000000</td>\n",
       "      <td>-0.252868</td>\n",
       "      <td>...</td>\n",
       "      <td>0.034412</td>\n",
       "      <td>-0.143126</td>\n",
       "      <td>-0.131794</td>\n",
       "      <td>-0.183450</td>\n",
       "      <td>-0.143126</td>\n",
       "      <td>-0.173927</td>\n",
       "      <td>-0.173927</td>\n",
       "      <td>0.456679</td>\n",
       "      <td>-0.143126</td>\n",
       "      <td>0.609449</td>\n",
       "    </tr>\n",
       "    <tr>\n",
       "      <th>Soil Type_Red</th>\n",
       "      <td>0.107662</td>\n",
       "      <td>0.141787</td>\n",
       "      <td>-0.119972</td>\n",
       "      <td>-0.009496</td>\n",
       "      <td>0.021345</td>\n",
       "      <td>0.123352</td>\n",
       "      <td>-0.237500</td>\n",
       "      <td>-0.245207</td>\n",
       "      <td>-0.252868</td>\n",
       "      <td>1.000000</td>\n",
       "      <td>...</td>\n",
       "      <td>0.211953</td>\n",
       "      <td>0.566009</td>\n",
       "      <td>-0.123784</td>\n",
       "      <td>-0.172301</td>\n",
       "      <td>-0.134427</td>\n",
       "      <td>-0.163357</td>\n",
       "      <td>-0.163357</td>\n",
       "      <td>-0.189476</td>\n",
       "      <td>0.566009</td>\n",
       "      <td>-0.154110</td>\n",
       "    </tr>\n",
       "    <tr>\n",
       "      <th>Soil Type_Sandy</th>\n",
       "      <td>-0.048059</td>\n",
       "      <td>-0.043426</td>\n",
       "      <td>-0.091160</td>\n",
       "      <td>-0.131188</td>\n",
       "      <td>0.014926</td>\n",
       "      <td>0.104841</td>\n",
       "      <td>-0.245207</td>\n",
       "      <td>-0.253165</td>\n",
       "      <td>-0.261074</td>\n",
       "      <td>-0.245207</td>\n",
       "      <td>...</td>\n",
       "      <td>-0.186867</td>\n",
       "      <td>-0.138789</td>\n",
       "      <td>0.504816</td>\n",
       "      <td>0.382468</td>\n",
       "      <td>-0.138789</td>\n",
       "      <td>-0.168658</td>\n",
       "      <td>-0.168658</td>\n",
       "      <td>-0.195625</td>\n",
       "      <td>-0.138789</td>\n",
       "      <td>-0.159111</td>\n",
       "    </tr>\n",
       "    <tr>\n",
       "      <th>Crop Type_Barley</th>\n",
       "      <td>-0.011080</td>\n",
       "      <td>-0.007192</td>\n",
       "      <td>-0.036096</td>\n",
       "      <td>-0.151475</td>\n",
       "      <td>0.091135</td>\n",
       "      <td>0.152105</td>\n",
       "      <td>-0.134427</td>\n",
       "      <td>-0.138789</td>\n",
       "      <td>-0.143126</td>\n",
       "      <td>-0.134427</td>\n",
       "      <td>...</td>\n",
       "      <td>-0.102444</td>\n",
       "      <td>-0.076087</td>\n",
       "      <td>-0.070063</td>\n",
       "      <td>-0.097524</td>\n",
       "      <td>-0.076087</td>\n",
       "      <td>-0.092461</td>\n",
       "      <td>-0.092461</td>\n",
       "      <td>-0.107245</td>\n",
       "      <td>-0.076087</td>\n",
       "      <td>-0.087228</td>\n",
       "    </tr>\n",
       "    <tr>\n",
       "      <th>Crop Type_Cotton</th>\n",
       "      <td>0.014265</td>\n",
       "      <td>0.027599</td>\n",
       "      <td>0.661839</td>\n",
       "      <td>-0.080207</td>\n",
       "      <td>-0.002925</td>\n",
       "      <td>0.144783</td>\n",
       "      <td>0.133364</td>\n",
       "      <td>-0.186867</td>\n",
       "      <td>0.034412</td>\n",
       "      <td>0.211953</td>\n",
       "      <td>...</td>\n",
       "      <td>1.000000</td>\n",
       "      <td>-0.102444</td>\n",
       "      <td>-0.094333</td>\n",
       "      <td>-0.131306</td>\n",
       "      <td>-0.102444</td>\n",
       "      <td>-0.124490</td>\n",
       "      <td>-0.124490</td>\n",
       "      <td>-0.144395</td>\n",
       "      <td>-0.102444</td>\n",
       "      <td>-0.117444</td>\n",
       "    </tr>\n",
       "    <tr>\n",
       "      <th>Crop Type_Ground Nuts</th>\n",
       "      <td>-0.011080</td>\n",
       "      <td>-0.000411</td>\n",
       "      <td>-0.246924</td>\n",
       "      <td>0.104605</td>\n",
       "      <td>-0.065895</td>\n",
       "      <td>0.061002</td>\n",
       "      <td>-0.134427</td>\n",
       "      <td>-0.138789</td>\n",
       "      <td>-0.143126</td>\n",
       "      <td>0.566009</td>\n",
       "      <td>...</td>\n",
       "      <td>-0.102444</td>\n",
       "      <td>1.000000</td>\n",
       "      <td>-0.070063</td>\n",
       "      <td>-0.097524</td>\n",
       "      <td>-0.076087</td>\n",
       "      <td>-0.092461</td>\n",
       "      <td>-0.092461</td>\n",
       "      <td>-0.107245</td>\n",
       "      <td>-0.076087</td>\n",
       "      <td>-0.087228</td>\n",
       "    </tr>\n",
       "    <tr>\n",
       "      <th>Crop Type_Maize</th>\n",
       "      <td>-0.093509</td>\n",
       "      <td>-0.079476</td>\n",
       "      <td>-0.022992</td>\n",
       "      <td>-0.012672</td>\n",
       "      <td>0.100685</td>\n",
       "      <td>0.001148</td>\n",
       "      <td>-0.123784</td>\n",
       "      <td>-0.127801</td>\n",
       "      <td>-0.131794</td>\n",
       "      <td>-0.123784</td>\n",
       "      <td>...</td>\n",
       "      <td>-0.094333</td>\n",
       "      <td>-0.070063</td>\n",
       "      <td>1.000000</td>\n",
       "      <td>-0.089803</td>\n",
       "      <td>-0.070063</td>\n",
       "      <td>-0.085141</td>\n",
       "      <td>-0.085141</td>\n",
       "      <td>-0.098754</td>\n",
       "      <td>-0.070063</td>\n",
       "      <td>-0.080322</td>\n",
       "    </tr>\n",
       "    <tr>\n",
       "      <th>Crop Type_Millets</th>\n",
       "      <td>-0.084040</td>\n",
       "      <td>-0.114314</td>\n",
       "      <td>-0.149034</td>\n",
       "      <td>0.130894</td>\n",
       "      <td>-0.206973</td>\n",
       "      <td>-0.111862</td>\n",
       "      <td>0.154164</td>\n",
       "      <td>-0.177892</td>\n",
       "      <td>-0.183450</td>\n",
       "      <td>-0.172301</td>\n",
       "      <td>...</td>\n",
       "      <td>-0.131306</td>\n",
       "      <td>-0.097524</td>\n",
       "      <td>-0.089803</td>\n",
       "      <td>1.000000</td>\n",
       "      <td>-0.097524</td>\n",
       "      <td>-0.118511</td>\n",
       "      <td>-0.118511</td>\n",
       "      <td>-0.137460</td>\n",
       "      <td>-0.097524</td>\n",
       "      <td>-0.111803</td>\n",
       "    </tr>\n",
       "    <tr>\n",
       "      <th>Crop Type_Oil seeds</th>\n",
       "      <td>0.000228</td>\n",
       "      <td>-0.000411</td>\n",
       "      <td>-0.271521</td>\n",
       "      <td>0.002173</td>\n",
       "      <td>-0.052240</td>\n",
       "      <td>-0.027162</td>\n",
       "      <td>0.566009</td>\n",
       "      <td>-0.138789</td>\n",
       "      <td>-0.143126</td>\n",
       "      <td>-0.134427</td>\n",
       "      <td>...</td>\n",
       "      <td>-0.102444</td>\n",
       "      <td>-0.076087</td>\n",
       "      <td>-0.070063</td>\n",
       "      <td>-0.097524</td>\n",
       "      <td>1.000000</td>\n",
       "      <td>-0.092461</td>\n",
       "      <td>-0.092461</td>\n",
       "      <td>-0.107245</td>\n",
       "      <td>-0.076087</td>\n",
       "      <td>-0.087228</td>\n",
       "    </tr>\n",
       "    <tr>\n",
       "      <th>Crop Type_Paddy</th>\n",
       "      <td>0.088228</td>\n",
       "      <td>0.072020</td>\n",
       "      <td>-0.050269</td>\n",
       "      <td>0.054920</td>\n",
       "      <td>0.017203</td>\n",
       "      <td>-0.057648</td>\n",
       "      <td>-0.163357</td>\n",
       "      <td>0.666198</td>\n",
       "      <td>-0.173927</td>\n",
       "      <td>-0.163357</td>\n",
       "      <td>...</td>\n",
       "      <td>-0.124490</td>\n",
       "      <td>-0.092461</td>\n",
       "      <td>-0.085141</td>\n",
       "      <td>-0.118511</td>\n",
       "      <td>-0.092461</td>\n",
       "      <td>1.000000</td>\n",
       "      <td>-0.112360</td>\n",
       "      <td>-0.130325</td>\n",
       "      <td>-0.092461</td>\n",
       "      <td>-0.106000</td>\n",
       "    </tr>\n",
       "    <tr>\n",
       "      <th>Crop Type_Pulses</th>\n",
       "      <td>-0.238837</td>\n",
       "      <td>-0.245254</td>\n",
       "      <td>-0.271455</td>\n",
       "      <td>-0.014786</td>\n",
       "      <td>0.046241</td>\n",
       "      <td>-0.027650</td>\n",
       "      <td>-0.163357</td>\n",
       "      <td>0.666198</td>\n",
       "      <td>-0.173927</td>\n",
       "      <td>-0.163357</td>\n",
       "      <td>...</td>\n",
       "      <td>-0.124490</td>\n",
       "      <td>-0.092461</td>\n",
       "      <td>-0.085141</td>\n",
       "      <td>-0.118511</td>\n",
       "      <td>-0.092461</td>\n",
       "      <td>-0.112360</td>\n",
       "      <td>1.000000</td>\n",
       "      <td>-0.130325</td>\n",
       "      <td>-0.092461</td>\n",
       "      <td>-0.106000</td>\n",
       "    </tr>\n",
       "    <tr>\n",
       "      <th>Crop Type_Sugarcane</th>\n",
       "      <td>-0.031557</td>\n",
       "      <td>-0.035872</td>\n",
       "      <td>0.276383</td>\n",
       "      <td>-0.144648</td>\n",
       "      <td>0.057392</td>\n",
       "      <td>-0.028725</td>\n",
       "      <td>0.114299</td>\n",
       "      <td>-0.195625</td>\n",
       "      <td>0.456679</td>\n",
       "      <td>-0.189476</td>\n",
       "      <td>...</td>\n",
       "      <td>-0.144395</td>\n",
       "      <td>-0.107245</td>\n",
       "      <td>-0.098754</td>\n",
       "      <td>-0.137460</td>\n",
       "      <td>-0.107245</td>\n",
       "      <td>-0.130325</td>\n",
       "      <td>-0.130325</td>\n",
       "      <td>1.000000</td>\n",
       "      <td>-0.107245</td>\n",
       "      <td>-0.122948</td>\n",
       "    </tr>\n",
       "    <tr>\n",
       "      <th>Crop Type_Tobacco</th>\n",
       "      <td>0.124623</td>\n",
       "      <td>0.155563</td>\n",
       "      <td>-0.285576</td>\n",
       "      <td>0.005587</td>\n",
       "      <td>0.070653</td>\n",
       "      <td>0.013982</td>\n",
       "      <td>-0.134427</td>\n",
       "      <td>-0.138789</td>\n",
       "      <td>-0.143126</td>\n",
       "      <td>0.566009</td>\n",
       "      <td>...</td>\n",
       "      <td>-0.102444</td>\n",
       "      <td>-0.076087</td>\n",
       "      <td>-0.070063</td>\n",
       "      <td>-0.097524</td>\n",
       "      <td>-0.076087</td>\n",
       "      <td>-0.092461</td>\n",
       "      <td>-0.092461</td>\n",
       "      <td>-0.107245</td>\n",
       "      <td>1.000000</td>\n",
       "      <td>-0.087228</td>\n",
       "    </tr>\n",
       "    <tr>\n",
       "      <th>Crop Type_Wheat</th>\n",
       "      <td>0.256669</td>\n",
       "      <td>0.251766</td>\n",
       "      <td>0.192260</td>\n",
       "      <td>0.121226</td>\n",
       "      <td>-0.026841</td>\n",
       "      <td>-0.098146</td>\n",
       "      <td>-0.154110</td>\n",
       "      <td>-0.159111</td>\n",
       "      <td>0.609449</td>\n",
       "      <td>-0.154110</td>\n",
       "      <td>...</td>\n",
       "      <td>-0.117444</td>\n",
       "      <td>-0.087228</td>\n",
       "      <td>-0.080322</td>\n",
       "      <td>-0.111803</td>\n",
       "      <td>-0.087228</td>\n",
       "      <td>-0.106000</td>\n",
       "      <td>-0.106000</td>\n",
       "      <td>-0.122948</td>\n",
       "      <td>-0.087228</td>\n",
       "      <td>1.000000</td>\n",
       "    </tr>\n",
       "  </tbody>\n",
       "</table>\n",
       "<p>22 rows × 22 columns</p>\n",
       "</div>"
      ],
      "text/plain": [
       "                       Temparature  Humidity   Moisture  Nitrogen  Potassium  \\\n",
       "Temparature               1.000000   0.973164  0.091222 -0.033771  -0.023282   \n",
       "Humidity                  0.973164   1.000000  0.091342 -0.060646  -0.003594   \n",
       "Moisture                  0.091222   0.091342  1.000000 -0.095945   0.027845   \n",
       "Nitrogen                 -0.033771  -0.060646 -0.095945  1.000000  -0.500282   \n",
       "Potassium                -0.023282  -0.003594  0.027845 -0.500282   1.000000   \n",
       "Phosphorous               0.207545   0.204044  0.009276 -0.686971   0.089409   \n",
       "Soil Type_Black          -0.002751  -0.017121  0.065288  0.130520  -0.116420   \n",
       "Soil Type_Clayey         -0.113037  -0.130016 -0.241463  0.030122   0.047617   \n",
       "Soil Type_Loamy           0.057156   0.050253  0.379359 -0.017322   0.030161   \n",
       "Soil Type_Red             0.107662   0.141787 -0.119972 -0.009496   0.021345   \n",
       "Soil Type_Sandy          -0.048059  -0.043426 -0.091160 -0.131188   0.014926   \n",
       "Crop Type_Barley         -0.011080  -0.007192 -0.036096 -0.151475   0.091135   \n",
       "Crop Type_Cotton          0.014265   0.027599  0.661839 -0.080207  -0.002925   \n",
       "Crop Type_Ground Nuts    -0.011080  -0.000411 -0.246924  0.104605  -0.065895   \n",
       "Crop Type_Maize          -0.093509  -0.079476 -0.022992 -0.012672   0.100685   \n",
       "Crop Type_Millets        -0.084040  -0.114314 -0.149034  0.130894  -0.206973   \n",
       "Crop Type_Oil seeds       0.000228  -0.000411 -0.271521  0.002173  -0.052240   \n",
       "Crop Type_Paddy           0.088228   0.072020 -0.050269  0.054920   0.017203   \n",
       "Crop Type_Pulses         -0.238837  -0.245254 -0.271455 -0.014786   0.046241   \n",
       "Crop Type_Sugarcane      -0.031557  -0.035872  0.276383 -0.144648   0.057392   \n",
       "Crop Type_Tobacco         0.124623   0.155563 -0.285576  0.005587   0.070653   \n",
       "Crop Type_Wheat           0.256669   0.251766  0.192260  0.121226  -0.026841   \n",
       "\n",
       "                       Phosphorous  Soil Type_Black  Soil Type_Clayey  \\\n",
       "Temparature               0.207545        -0.002751         -0.113037   \n",
       "Humidity                  0.204044        -0.017121         -0.130016   \n",
       "Moisture                  0.009276         0.065288         -0.241463   \n",
       "Nitrogen                 -0.686971         0.130520          0.030122   \n",
       "Potassium                 0.089409        -0.116420          0.047617   \n",
       "Phosphorous               1.000000        -0.165494         -0.064019   \n",
       "Soil Type_Black          -0.165494         1.000000         -0.245207   \n",
       "Soil Type_Clayey         -0.064019        -0.245207          1.000000   \n",
       "Soil Type_Loamy           0.000503        -0.252868         -0.261074   \n",
       "Soil Type_Red             0.123352        -0.237500         -0.245207   \n",
       "Soil Type_Sandy           0.104841        -0.245207         -0.253165   \n",
       "Crop Type_Barley          0.152105        -0.134427         -0.138789   \n",
       "Crop Type_Cotton          0.144783         0.133364         -0.186867   \n",
       "Crop Type_Ground Nuts     0.061002        -0.134427         -0.138789   \n",
       "Crop Type_Maize           0.001148        -0.123784         -0.127801   \n",
       "Crop Type_Millets        -0.111862         0.154164         -0.177892   \n",
       "Crop Type_Oil seeds      -0.027162         0.566009         -0.138789   \n",
       "Crop Type_Paddy          -0.057648        -0.163357          0.666198   \n",
       "Crop Type_Pulses         -0.027650        -0.163357          0.666198   \n",
       "Crop Type_Sugarcane      -0.028725         0.114299         -0.195625   \n",
       "Crop Type_Tobacco         0.013982        -0.134427         -0.138789   \n",
       "Crop Type_Wheat          -0.098146        -0.154110         -0.159111   \n",
       "\n",
       "                       Soil Type_Loamy  Soil Type_Red  ...  Crop Type_Cotton  \\\n",
       "Temparature                   0.057156       0.107662  ...          0.014265   \n",
       "Humidity                      0.050253       0.141787  ...          0.027599   \n",
       "Moisture                      0.379359      -0.119972  ...          0.661839   \n",
       "Nitrogen                     -0.017322      -0.009496  ...         -0.080207   \n",
       "Potassium                     0.030161       0.021345  ...         -0.002925   \n",
       "Phosphorous                   0.000503       0.123352  ...          0.144783   \n",
       "Soil Type_Black              -0.252868      -0.237500  ...          0.133364   \n",
       "Soil Type_Clayey             -0.261074      -0.245207  ...         -0.186867   \n",
       "Soil Type_Loamy               1.000000      -0.252868  ...          0.034412   \n",
       "Soil Type_Red                -0.252868       1.000000  ...          0.211953   \n",
       "Soil Type_Sandy              -0.261074      -0.245207  ...         -0.186867   \n",
       "Crop Type_Barley             -0.143126      -0.134427  ...         -0.102444   \n",
       "Crop Type_Cotton              0.034412       0.211953  ...          1.000000   \n",
       "Crop Type_Ground Nuts        -0.143126       0.566009  ...         -0.102444   \n",
       "Crop Type_Maize              -0.131794      -0.123784  ...         -0.094333   \n",
       "Crop Type_Millets            -0.183450      -0.172301  ...         -0.131306   \n",
       "Crop Type_Oil seeds          -0.143126      -0.134427  ...         -0.102444   \n",
       "Crop Type_Paddy              -0.173927      -0.163357  ...         -0.124490   \n",
       "Crop Type_Pulses             -0.173927      -0.163357  ...         -0.124490   \n",
       "Crop Type_Sugarcane           0.456679      -0.189476  ...         -0.144395   \n",
       "Crop Type_Tobacco            -0.143126       0.566009  ...         -0.102444   \n",
       "Crop Type_Wheat               0.609449      -0.154110  ...         -0.117444   \n",
       "\n",
       "                       Crop Type_Ground Nuts  Crop Type_Maize  \\\n",
       "Temparature                        -0.011080        -0.093509   \n",
       "Humidity                           -0.000411        -0.079476   \n",
       "Moisture                           -0.246924        -0.022992   \n",
       "Nitrogen                            0.104605        -0.012672   \n",
       "Potassium                          -0.065895         0.100685   \n",
       "Phosphorous                         0.061002         0.001148   \n",
       "Soil Type_Black                    -0.134427        -0.123784   \n",
       "Soil Type_Clayey                   -0.138789        -0.127801   \n",
       "Soil Type_Loamy                    -0.143126        -0.131794   \n",
       "Soil Type_Red                       0.566009        -0.123784   \n",
       "Soil Type_Sandy                    -0.138789         0.504816   \n",
       "Crop Type_Barley                   -0.076087        -0.070063   \n",
       "Crop Type_Cotton                   -0.102444        -0.094333   \n",
       "Crop Type_Ground Nuts               1.000000        -0.070063   \n",
       "Crop Type_Maize                    -0.070063         1.000000   \n",
       "Crop Type_Millets                  -0.097524        -0.089803   \n",
       "Crop Type_Oil seeds                -0.076087        -0.070063   \n",
       "Crop Type_Paddy                    -0.092461        -0.085141   \n",
       "Crop Type_Pulses                   -0.092461        -0.085141   \n",
       "Crop Type_Sugarcane                -0.107245        -0.098754   \n",
       "Crop Type_Tobacco                  -0.076087        -0.070063   \n",
       "Crop Type_Wheat                    -0.087228        -0.080322   \n",
       "\n",
       "                       Crop Type_Millets  Crop Type_Oil seeds  \\\n",
       "Temparature                    -0.084040             0.000228   \n",
       "Humidity                       -0.114314            -0.000411   \n",
       "Moisture                       -0.149034            -0.271521   \n",
       "Nitrogen                        0.130894             0.002173   \n",
       "Potassium                      -0.206973            -0.052240   \n",
       "Phosphorous                    -0.111862            -0.027162   \n",
       "Soil Type_Black                 0.154164             0.566009   \n",
       "Soil Type_Clayey               -0.177892            -0.138789   \n",
       "Soil Type_Loamy                -0.183450            -0.143126   \n",
       "Soil Type_Red                  -0.172301            -0.134427   \n",
       "Soil Type_Sandy                 0.382468            -0.138789   \n",
       "Crop Type_Barley               -0.097524            -0.076087   \n",
       "Crop Type_Cotton               -0.131306            -0.102444   \n",
       "Crop Type_Ground Nuts          -0.097524            -0.076087   \n",
       "Crop Type_Maize                -0.089803            -0.070063   \n",
       "Crop Type_Millets               1.000000            -0.097524   \n",
       "Crop Type_Oil seeds            -0.097524             1.000000   \n",
       "Crop Type_Paddy                -0.118511            -0.092461   \n",
       "Crop Type_Pulses               -0.118511            -0.092461   \n",
       "Crop Type_Sugarcane            -0.137460            -0.107245   \n",
       "Crop Type_Tobacco              -0.097524            -0.076087   \n",
       "Crop Type_Wheat                -0.111803            -0.087228   \n",
       "\n",
       "                       Crop Type_Paddy  Crop Type_Pulses  Crop Type_Sugarcane  \\\n",
       "Temparature                   0.088228         -0.238837            -0.031557   \n",
       "Humidity                      0.072020         -0.245254            -0.035872   \n",
       "Moisture                     -0.050269         -0.271455             0.276383   \n",
       "Nitrogen                      0.054920         -0.014786            -0.144648   \n",
       "Potassium                     0.017203          0.046241             0.057392   \n",
       "Phosphorous                  -0.057648         -0.027650            -0.028725   \n",
       "Soil Type_Black              -0.163357         -0.163357             0.114299   \n",
       "Soil Type_Clayey              0.666198          0.666198            -0.195625   \n",
       "Soil Type_Loamy              -0.173927         -0.173927             0.456679   \n",
       "Soil Type_Red                -0.163357         -0.163357            -0.189476   \n",
       "Soil Type_Sandy              -0.168658         -0.168658            -0.195625   \n",
       "Crop Type_Barley             -0.092461         -0.092461            -0.107245   \n",
       "Crop Type_Cotton             -0.124490         -0.124490            -0.144395   \n",
       "Crop Type_Ground Nuts        -0.092461         -0.092461            -0.107245   \n",
       "Crop Type_Maize              -0.085141         -0.085141            -0.098754   \n",
       "Crop Type_Millets            -0.118511         -0.118511            -0.137460   \n",
       "Crop Type_Oil seeds          -0.092461         -0.092461            -0.107245   \n",
       "Crop Type_Paddy               1.000000         -0.112360            -0.130325   \n",
       "Crop Type_Pulses             -0.112360          1.000000            -0.130325   \n",
       "Crop Type_Sugarcane          -0.130325         -0.130325             1.000000   \n",
       "Crop Type_Tobacco            -0.092461         -0.092461            -0.107245   \n",
       "Crop Type_Wheat              -0.106000         -0.106000            -0.122948   \n",
       "\n",
       "                       Crop Type_Tobacco  Crop Type_Wheat  \n",
       "Temparature                     0.124623         0.256669  \n",
       "Humidity                        0.155563         0.251766  \n",
       "Moisture                       -0.285576         0.192260  \n",
       "Nitrogen                        0.005587         0.121226  \n",
       "Potassium                       0.070653        -0.026841  \n",
       "Phosphorous                     0.013982        -0.098146  \n",
       "Soil Type_Black                -0.134427        -0.154110  \n",
       "Soil Type_Clayey               -0.138789        -0.159111  \n",
       "Soil Type_Loamy                -0.143126         0.609449  \n",
       "Soil Type_Red                   0.566009        -0.154110  \n",
       "Soil Type_Sandy                -0.138789        -0.159111  \n",
       "Crop Type_Barley               -0.076087        -0.087228  \n",
       "Crop Type_Cotton               -0.102444        -0.117444  \n",
       "Crop Type_Ground Nuts          -0.076087        -0.087228  \n",
       "Crop Type_Maize                -0.070063        -0.080322  \n",
       "Crop Type_Millets              -0.097524        -0.111803  \n",
       "Crop Type_Oil seeds            -0.076087        -0.087228  \n",
       "Crop Type_Paddy                -0.092461        -0.106000  \n",
       "Crop Type_Pulses               -0.092461        -0.106000  \n",
       "Crop Type_Sugarcane            -0.107245        -0.122948  \n",
       "Crop Type_Tobacco               1.000000        -0.087228  \n",
       "Crop Type_Wheat                -0.087228         1.000000  \n",
       "\n",
       "[22 rows x 22 columns]"
      ]
     },
     "execution_count": 29,
     "metadata": {},
     "output_type": "execute_result"
    }
   ],
   "source": [
    "df.corr()"
   ]
  },
  {
   "cell_type": "code",
   "execution_count": 30,
   "id": "6ef02bd9",
   "metadata": {
    "execution": {
     "iopub.execute_input": "2022-06-13T14:08:53.590922Z",
     "iopub.status.busy": "2022-06-13T14:08:53.590421Z",
     "iopub.status.idle": "2022-06-13T14:08:55.684108Z",
     "shell.execute_reply": "2022-06-13T14:08:55.682950Z"
    },
    "papermill": {
     "duration": 2.114496,
     "end_time": "2022-06-13T14:08:55.686106",
     "exception": false,
     "start_time": "2022-06-13T14:08:53.571610",
     "status": "completed"
    },
    "tags": []
   },
   "outputs": [
    {
     "data": {
      "image/png": "[encoded data removed]",
      "text/plain": [
       "<Figure size 1440x720 with 2 Axes>"
      ]
     },
     "metadata": {
      "needs_background": "light"
     },
     "output_type": "display_data"
    }
   ],
   "source": [
    "corr=df.corr()\n",
    "features=corr.index\n",
    "plt.figure(figsize=(20,10))\n",
    "ax=sns.heatmap(df[features].corr(),annot=True,linewidth=1, cmap='CMRmap')\n",
    "plt.show()"
   ]
  },
  {
   "cell_type": "markdown",
   "id": "1cf71092",
   "metadata": {
    "papermill": {
     "duration": 0.02041,
     "end_time": "2022-06-13T14:08:55.727438",
     "exception": false,
     "start_time": "2022-06-13T14:08:55.707028",
     "status": "completed"
    },
    "tags": []
   },
   "source": [
    "TRAIN TEST SPLIT"
   ]
  },
  {
   "cell_type": "code",
   "execution_count": 31,
   "id": "9cde11e9",
   "metadata": {
    "execution": {
     "iopub.execute_input": "2022-06-13T14:08:55.770223Z",
     "iopub.status.busy": "2022-06-13T14:08:55.769771Z",
     "iopub.status.idle": "2022-06-13T14:08:55.775806Z",
     "shell.execute_reply": "2022-06-13T14:08:55.774997Z"
    },
    "papermill": {
     "duration": 0.029465,
     "end_time": "2022-06-13T14:08:55.777471",
     "exception": false,
     "start_time": "2022-06-13T14:08:55.748006",
     "status": "completed"
    },
    "tags": []
   },
   "outputs": [],
   "source": [
    "y= df['Fertilizer Name'].copy()\n",
    "X= df.drop('Fertilizer Name',axis=1)"
   ]
  },
  {
   "cell_type": "code",
   "execution_count": 32,
   "id": "e6635613",
   "metadata": {
    "execution": {
     "iopub.execute_input": "2022-06-13T14:08:55.820654Z",
     "iopub.status.busy": "2022-06-13T14:08:55.819852Z",
     "iopub.status.idle": "2022-06-13T14:08:55.993717Z",
     "shell.execute_reply": "2022-06-13T14:08:55.992894Z"
    },
    "papermill": {
     "duration": 0.197316,
     "end_time": "2022-06-13T14:08:55.995654",
     "exception": false,
     "start_time": "2022-06-13T14:08:55.798338",
     "status": "completed"
    },
    "tags": []
   },
   "outputs": [],
   "source": [
    "from sklearn.model_selection import train_test_split\n",
    "X_train, X_test, y_train, y_test = train_test_split(X, y, test_size=0.2, random_state=42, shuffle=True)"
   ]
  },
  {
   "cell_type": "code",
   "execution_count": 33,
   "id": "e8990096",
   "metadata": {
    "execution": {
     "iopub.execute_input": "2022-06-13T14:08:56.038709Z",
     "iopub.status.busy": "2022-06-13T14:08:56.038340Z",
     "iopub.status.idle": "2022-06-13T14:08:56.071409Z",
     "shell.execute_reply": "2022-06-13T14:08:56.070420Z"
    },
    "papermill": {
     "duration": 0.056562,
     "end_time": "2022-06-13T14:08:56.073210",
     "exception": false,
     "start_time": "2022-06-13T14:08:56.016648",
     "status": "completed"
    },
    "tags": []
   },
   "outputs": [
    {
     "data": {
      "text/html": [
       "<div>\n",
       "<style scoped>\n",
       "    .dataframe tbody tr th:only-of-type {\n",
       "        vertical-align: middle;\n",
       "    }\n",
       "\n",
       "    .dataframe tbody tr th {\n",
       "        vertical-align: top;\n",
       "    }\n",
       "\n",
       "    .dataframe thead th {\n",
       "        text-align: right;\n",
       "    }\n",
       "</style>\n",
       "<table border=\"1\" class=\"dataframe\">\n",
       "  <thead>\n",
       "    <tr style=\"text-align: right;\">\n",
       "      <th></th>\n",
       "      <th>Temparature</th>\n",
       "      <th>Humidity</th>\n",
       "      <th>Moisture</th>\n",
       "      <th>Nitrogen</th>\n",
       "      <th>Potassium</th>\n",
       "      <th>Phosphorous</th>\n",
       "      <th>Soil Type_Black</th>\n",
       "      <th>Soil Type_Clayey</th>\n",
       "      <th>Soil Type_Loamy</th>\n",
       "      <th>Soil Type_Red</th>\n",
       "      <th>...</th>\n",
       "      <th>Crop Type_Cotton</th>\n",
       "      <th>Crop Type_Ground Nuts</th>\n",
       "      <th>Crop Type_Maize</th>\n",
       "      <th>Crop Type_Millets</th>\n",
       "      <th>Crop Type_Oil seeds</th>\n",
       "      <th>Crop Type_Paddy</th>\n",
       "      <th>Crop Type_Pulses</th>\n",
       "      <th>Crop Type_Sugarcane</th>\n",
       "      <th>Crop Type_Tobacco</th>\n",
       "      <th>Crop Type_Wheat</th>\n",
       "    </tr>\n",
       "  </thead>\n",
       "  <tbody>\n",
       "    <tr>\n",
       "      <th>49</th>\n",
       "      <td>33.0</td>\n",
       "      <td>64.0</td>\n",
       "      <td>51.0</td>\n",
       "      <td>5.0</td>\n",
       "      <td>9.00</td>\n",
       "      <td>29.0</td>\n",
       "      <td>0</td>\n",
       "      <td>0</td>\n",
       "      <td>0</td>\n",
       "      <td>0</td>\n",
       "      <td>...</td>\n",
       "      <td>0</td>\n",
       "      <td>0</td>\n",
       "      <td>1</td>\n",
       "      <td>0</td>\n",
       "      <td>0</td>\n",
       "      <td>0</td>\n",
       "      <td>0</td>\n",
       "      <td>0</td>\n",
       "      <td>0</td>\n",
       "      <td>0</td>\n",
       "    </tr>\n",
       "    <tr>\n",
       "      <th>70</th>\n",
       "      <td>26.0</td>\n",
       "      <td>52.0</td>\n",
       "      <td>39.0</td>\n",
       "      <td>21.0</td>\n",
       "      <td>0.00</td>\n",
       "      <td>23.0</td>\n",
       "      <td>0</td>\n",
       "      <td>1</td>\n",
       "      <td>0</td>\n",
       "      <td>0</td>\n",
       "      <td>...</td>\n",
       "      <td>0</td>\n",
       "      <td>0</td>\n",
       "      <td>0</td>\n",
       "      <td>0</td>\n",
       "      <td>0</td>\n",
       "      <td>0</td>\n",
       "      <td>1</td>\n",
       "      <td>0</td>\n",
       "      <td>0</td>\n",
       "      <td>0</td>\n",
       "    </tr>\n",
       "    <tr>\n",
       "      <th>68</th>\n",
       "      <td>25.0</td>\n",
       "      <td>50.0</td>\n",
       "      <td>40.0</td>\n",
       "      <td>6.0</td>\n",
       "      <td>18.75</td>\n",
       "      <td>16.0</td>\n",
       "      <td>0</td>\n",
       "      <td>1</td>\n",
       "      <td>0</td>\n",
       "      <td>0</td>\n",
       "      <td>...</td>\n",
       "      <td>0</td>\n",
       "      <td>0</td>\n",
       "      <td>0</td>\n",
       "      <td>0</td>\n",
       "      <td>0</td>\n",
       "      <td>0</td>\n",
       "      <td>1</td>\n",
       "      <td>0</td>\n",
       "      <td>0</td>\n",
       "      <td>0</td>\n",
       "    </tr>\n",
       "    <tr>\n",
       "      <th>15</th>\n",
       "      <td>31.0</td>\n",
       "      <td>62.0</td>\n",
       "      <td>49.0</td>\n",
       "      <td>10.0</td>\n",
       "      <td>13.00</td>\n",
       "      <td>14.0</td>\n",
       "      <td>1</td>\n",
       "      <td>0</td>\n",
       "      <td>0</td>\n",
       "      <td>0</td>\n",
       "      <td>...</td>\n",
       "      <td>0</td>\n",
       "      <td>0</td>\n",
       "      <td>0</td>\n",
       "      <td>0</td>\n",
       "      <td>0</td>\n",
       "      <td>0</td>\n",
       "      <td>0</td>\n",
       "      <td>1</td>\n",
       "      <td>0</td>\n",
       "      <td>0</td>\n",
       "    </tr>\n",
       "    <tr>\n",
       "      <th>39</th>\n",
       "      <td>29.0</td>\n",
       "      <td>58.0</td>\n",
       "      <td>34.0</td>\n",
       "      <td>15.0</td>\n",
       "      <td>0.00</td>\n",
       "      <td>37.0</td>\n",
       "      <td>0</td>\n",
       "      <td>0</td>\n",
       "      <td>0</td>\n",
       "      <td>0</td>\n",
       "      <td>...</td>\n",
       "      <td>0</td>\n",
       "      <td>0</td>\n",
       "      <td>0</td>\n",
       "      <td>1</td>\n",
       "      <td>0</td>\n",
       "      <td>0</td>\n",
       "      <td>0</td>\n",
       "      <td>0</td>\n",
       "      <td>0</td>\n",
       "      <td>0</td>\n",
       "    </tr>\n",
       "    <tr>\n",
       "      <th>...</th>\n",
       "      <td>...</td>\n",
       "      <td>...</td>\n",
       "      <td>...</td>\n",
       "      <td>...</td>\n",
       "      <td>...</td>\n",
       "      <td>...</td>\n",
       "      <td>...</td>\n",
       "      <td>...</td>\n",
       "      <td>...</td>\n",
       "      <td>...</td>\n",
       "      <td>...</td>\n",
       "      <td>...</td>\n",
       "      <td>...</td>\n",
       "      <td>...</td>\n",
       "      <td>...</td>\n",
       "      <td>...</td>\n",
       "      <td>...</td>\n",
       "      <td>...</td>\n",
       "      <td>...</td>\n",
       "      <td>...</td>\n",
       "      <td>...</td>\n",
       "    </tr>\n",
       "    <tr>\n",
       "      <th>60</th>\n",
       "      <td>28.0</td>\n",
       "      <td>54.0</td>\n",
       "      <td>41.0</td>\n",
       "      <td>36.0</td>\n",
       "      <td>0.00</td>\n",
       "      <td>0.0</td>\n",
       "      <td>0</td>\n",
       "      <td>1</td>\n",
       "      <td>0</td>\n",
       "      <td>0</td>\n",
       "      <td>...</td>\n",
       "      <td>0</td>\n",
       "      <td>0</td>\n",
       "      <td>0</td>\n",
       "      <td>0</td>\n",
       "      <td>0</td>\n",
       "      <td>1</td>\n",
       "      <td>0</td>\n",
       "      <td>0</td>\n",
       "      <td>0</td>\n",
       "      <td>0</td>\n",
       "    </tr>\n",
       "    <tr>\n",
       "      <th>71</th>\n",
       "      <td>31.0</td>\n",
       "      <td>62.0</td>\n",
       "      <td>32.0</td>\n",
       "      <td>39.0</td>\n",
       "      <td>0.00</td>\n",
       "      <td>0.0</td>\n",
       "      <td>0</td>\n",
       "      <td>0</td>\n",
       "      <td>0</td>\n",
       "      <td>1</td>\n",
       "      <td>...</td>\n",
       "      <td>0</td>\n",
       "      <td>0</td>\n",
       "      <td>0</td>\n",
       "      <td>0</td>\n",
       "      <td>0</td>\n",
       "      <td>0</td>\n",
       "      <td>0</td>\n",
       "      <td>0</td>\n",
       "      <td>1</td>\n",
       "      <td>0</td>\n",
       "    </tr>\n",
       "    <tr>\n",
       "      <th>14</th>\n",
       "      <td>26.0</td>\n",
       "      <td>52.0</td>\n",
       "      <td>31.0</td>\n",
       "      <td>14.0</td>\n",
       "      <td>0.00</td>\n",
       "      <td>41.0</td>\n",
       "      <td>0</td>\n",
       "      <td>0</td>\n",
       "      <td>0</td>\n",
       "      <td>1</td>\n",
       "      <td>...</td>\n",
       "      <td>0</td>\n",
       "      <td>1</td>\n",
       "      <td>0</td>\n",
       "      <td>0</td>\n",
       "      <td>0</td>\n",
       "      <td>0</td>\n",
       "      <td>0</td>\n",
       "      <td>0</td>\n",
       "      <td>0</td>\n",
       "      <td>0</td>\n",
       "    </tr>\n",
       "    <tr>\n",
       "      <th>92</th>\n",
       "      <td>36.0</td>\n",
       "      <td>68.0</td>\n",
       "      <td>41.0</td>\n",
       "      <td>41.0</td>\n",
       "      <td>0.00</td>\n",
       "      <td>0.0</td>\n",
       "      <td>0</td>\n",
       "      <td>0</td>\n",
       "      <td>0</td>\n",
       "      <td>1</td>\n",
       "      <td>...</td>\n",
       "      <td>0</td>\n",
       "      <td>1</td>\n",
       "      <td>0</td>\n",
       "      <td>0</td>\n",
       "      <td>0</td>\n",
       "      <td>0</td>\n",
       "      <td>0</td>\n",
       "      <td>0</td>\n",
       "      <td>0</td>\n",
       "      <td>0</td>\n",
       "    </tr>\n",
       "    <tr>\n",
       "      <th>51</th>\n",
       "      <td>36.0</td>\n",
       "      <td>68.0</td>\n",
       "      <td>33.0</td>\n",
       "      <td>13.0</td>\n",
       "      <td>0.00</td>\n",
       "      <td>14.0</td>\n",
       "      <td>1</td>\n",
       "      <td>0</td>\n",
       "      <td>0</td>\n",
       "      <td>0</td>\n",
       "      <td>...</td>\n",
       "      <td>0</td>\n",
       "      <td>0</td>\n",
       "      <td>0</td>\n",
       "      <td>0</td>\n",
       "      <td>1</td>\n",
       "      <td>0</td>\n",
       "      <td>0</td>\n",
       "      <td>0</td>\n",
       "      <td>0</td>\n",
       "      <td>0</td>\n",
       "    </tr>\n",
       "  </tbody>\n",
       "</table>\n",
       "<p>79 rows × 22 columns</p>\n",
       "</div>"
      ],
      "text/plain": [
       "    Temparature  Humidity   Moisture  Nitrogen  Potassium  Phosphorous  \\\n",
       "49         33.0       64.0      51.0       5.0       9.00         29.0   \n",
       "70         26.0       52.0      39.0      21.0       0.00         23.0   \n",
       "68         25.0       50.0      40.0       6.0      18.75         16.0   \n",
       "15         31.0       62.0      49.0      10.0      13.00         14.0   \n",
       "39         29.0       58.0      34.0      15.0       0.00         37.0   \n",
       "..          ...        ...       ...       ...        ...          ...   \n",
       "60         28.0       54.0      41.0      36.0       0.00          0.0   \n",
       "71         31.0       62.0      32.0      39.0       0.00          0.0   \n",
       "14         26.0       52.0      31.0      14.0       0.00         41.0   \n",
       "92         36.0       68.0      41.0      41.0       0.00          0.0   \n",
       "51         36.0       68.0      33.0      13.0       0.00         14.0   \n",
       "\n",
       "    Soil Type_Black  Soil Type_Clayey  Soil Type_Loamy  Soil Type_Red  ...  \\\n",
       "49                0                 0                0              0  ...   \n",
       "70                0                 1                0              0  ...   \n",
       "68                0                 1                0              0  ...   \n",
       "15                1                 0                0              0  ...   \n",
       "39                0                 0                0              0  ...   \n",
       "..              ...               ...              ...            ...  ...   \n",
       "60                0                 1                0              0  ...   \n",
       "71                0                 0                0              1  ...   \n",
       "14                0                 0                0              1  ...   \n",
       "92                0                 0                0              1  ...   \n",
       "51                1                 0                0              0  ...   \n",
       "\n",
       "    Crop Type_Cotton  Crop Type_Ground Nuts  Crop Type_Maize  \\\n",
       "49                 0                      0                1   \n",
       "70                 0                      0                0   \n",
       "68                 0                      0                0   \n",
       "15                 0                      0                0   \n",
       "39                 0                      0                0   \n",
       "..               ...                    ...              ...   \n",
       "60                 0                      0                0   \n",
       "71                 0                      0                0   \n",
       "14                 0                      1                0   \n",
       "92                 0                      1                0   \n",
       "51                 0                      0                0   \n",
       "\n",
       "    Crop Type_Millets  Crop Type_Oil seeds  Crop Type_Paddy  Crop Type_Pulses  \\\n",
       "49                  0                    0                0                 0   \n",
       "70                  0                    0                0                 1   \n",
       "68                  0                    0                0                 1   \n",
       "15                  0                    0                0                 0   \n",
       "39                  1                    0                0                 0   \n",
       "..                ...                  ...              ...               ...   \n",
       "60                  0                    0                1                 0   \n",
       "71                  0                    0                0                 0   \n",
       "14                  0                    0                0                 0   \n",
       "92                  0                    0                0                 0   \n",
       "51                  0                    1                0                 0   \n",
       "\n",
       "    Crop Type_Sugarcane  Crop Type_Tobacco  Crop Type_Wheat  \n",
       "49                    0                  0                0  \n",
       "70                    0                  0                0  \n",
       "68                    0                  0                0  \n",
       "15                    1                  0                0  \n",
       "39                    0                  0                0  \n",
       "..                  ...                ...              ...  \n",
       "60                    0                  0                0  \n",
       "71                    0                  1                0  \n",
       "14                    0                  0                0  \n",
       "92                    0                  0                0  \n",
       "51                    0                  0                0  \n",
       "\n",
       "[79 rows x 22 columns]"
      ]
     },
     "execution_count": 33,
     "metadata": {},
     "output_type": "execute_result"
    }
   ],
   "source": [
    "X_train"
   ]
  },
  {
   "cell_type": "code",
   "execution_count": 34,
   "id": "e8645b94",
   "metadata": {
    "execution": {
     "iopub.execute_input": "2022-06-13T14:08:56.116984Z",
     "iopub.status.busy": "2022-06-13T14:08:56.116537Z",
     "iopub.status.idle": "2022-06-13T14:08:56.156708Z",
     "shell.execute_reply": "2022-06-13T14:08:56.156171Z"
    },
    "papermill": {
     "duration": 0.064733,
     "end_time": "2022-06-13T14:08:56.159142",
     "exception": false,
     "start_time": "2022-06-13T14:08:56.094409",
     "status": "completed"
    },
    "tags": []
   },
   "outputs": [
    {
     "data": {
      "text/html": [
       "<div>\n",
       "<style scoped>\n",
       "    .dataframe tbody tr th:only-of-type {\n",
       "        vertical-align: middle;\n",
       "    }\n",
       "\n",
       "    .dataframe tbody tr th {\n",
       "        vertical-align: top;\n",
       "    }\n",
       "\n",
       "    .dataframe thead th {\n",
       "        text-align: right;\n",
       "    }\n",
       "</style>\n",
       "<table border=\"1\" class=\"dataframe\">\n",
       "  <thead>\n",
       "    <tr style=\"text-align: right;\">\n",
       "      <th></th>\n",
       "      <th>Temparature</th>\n",
       "      <th>Humidity</th>\n",
       "      <th>Moisture</th>\n",
       "      <th>Nitrogen</th>\n",
       "      <th>Potassium</th>\n",
       "      <th>Phosphorous</th>\n",
       "      <th>Soil Type_Black</th>\n",
       "      <th>Soil Type_Clayey</th>\n",
       "      <th>Soil Type_Loamy</th>\n",
       "      <th>Soil Type_Red</th>\n",
       "      <th>...</th>\n",
       "      <th>Crop Type_Cotton</th>\n",
       "      <th>Crop Type_Ground Nuts</th>\n",
       "      <th>Crop Type_Maize</th>\n",
       "      <th>Crop Type_Millets</th>\n",
       "      <th>Crop Type_Oil seeds</th>\n",
       "      <th>Crop Type_Paddy</th>\n",
       "      <th>Crop Type_Pulses</th>\n",
       "      <th>Crop Type_Sugarcane</th>\n",
       "      <th>Crop Type_Tobacco</th>\n",
       "      <th>Crop Type_Wheat</th>\n",
       "    </tr>\n",
       "  </thead>\n",
       "  <tbody>\n",
       "    <tr>\n",
       "      <th>62</th>\n",
       "      <td>34.0</td>\n",
       "      <td>65.0</td>\n",
       "      <td>64.0</td>\n",
       "      <td>24.0</td>\n",
       "      <td>0.0</td>\n",
       "      <td>20.0</td>\n",
       "      <td>1</td>\n",
       "      <td>0</td>\n",
       "      <td>0</td>\n",
       "      <td>0</td>\n",
       "      <td>...</td>\n",
       "      <td>1</td>\n",
       "      <td>0</td>\n",
       "      <td>0</td>\n",
       "      <td>0</td>\n",
       "      <td>0</td>\n",
       "      <td>0</td>\n",
       "      <td>0</td>\n",
       "      <td>0</td>\n",
       "      <td>0</td>\n",
       "      <td>0</td>\n",
       "    </tr>\n",
       "    <tr>\n",
       "      <th>40</th>\n",
       "      <td>27.0</td>\n",
       "      <td>54.0</td>\n",
       "      <td>30.0</td>\n",
       "      <td>13.0</td>\n",
       "      <td>0.0</td>\n",
       "      <td>13.0</td>\n",
       "      <td>0</td>\n",
       "      <td>1</td>\n",
       "      <td>0</td>\n",
       "      <td>0</td>\n",
       "      <td>...</td>\n",
       "      <td>0</td>\n",
       "      <td>0</td>\n",
       "      <td>0</td>\n",
       "      <td>0</td>\n",
       "      <td>0</td>\n",
       "      <td>0</td>\n",
       "      <td>1</td>\n",
       "      <td>0</td>\n",
       "      <td>0</td>\n",
       "      <td>0</td>\n",
       "    </tr>\n",
       "    <tr>\n",
       "      <th>95</th>\n",
       "      <td>30.0</td>\n",
       "      <td>60.0</td>\n",
       "      <td>27.0</td>\n",
       "      <td>4.0</td>\n",
       "      <td>17.0</td>\n",
       "      <td>17.0</td>\n",
       "      <td>0</td>\n",
       "      <td>0</td>\n",
       "      <td>0</td>\n",
       "      <td>1</td>\n",
       "      <td>...</td>\n",
       "      <td>0</td>\n",
       "      <td>0</td>\n",
       "      <td>0</td>\n",
       "      <td>0</td>\n",
       "      <td>0</td>\n",
       "      <td>0</td>\n",
       "      <td>0</td>\n",
       "      <td>0</td>\n",
       "      <td>1</td>\n",
       "      <td>0</td>\n",
       "    </tr>\n",
       "    <tr>\n",
       "      <th>18</th>\n",
       "      <td>28.0</td>\n",
       "      <td>54.0</td>\n",
       "      <td>65.0</td>\n",
       "      <td>39.0</td>\n",
       "      <td>0.0</td>\n",
       "      <td>0.0</td>\n",
       "      <td>1</td>\n",
       "      <td>0</td>\n",
       "      <td>0</td>\n",
       "      <td>0</td>\n",
       "      <td>...</td>\n",
       "      <td>1</td>\n",
       "      <td>0</td>\n",
       "      <td>0</td>\n",
       "      <td>0</td>\n",
       "      <td>0</td>\n",
       "      <td>0</td>\n",
       "      <td>0</td>\n",
       "      <td>0</td>\n",
       "      <td>0</td>\n",
       "      <td>0</td>\n",
       "    </tr>\n",
       "    <tr>\n",
       "      <th>97</th>\n",
       "      <td>36.0</td>\n",
       "      <td>60.0</td>\n",
       "      <td>43.0</td>\n",
       "      <td>15.0</td>\n",
       "      <td>0.0</td>\n",
       "      <td>41.0</td>\n",
       "      <td>0</td>\n",
       "      <td>0</td>\n",
       "      <td>0</td>\n",
       "      <td>0</td>\n",
       "      <td>...</td>\n",
       "      <td>0</td>\n",
       "      <td>0</td>\n",
       "      <td>0</td>\n",
       "      <td>1</td>\n",
       "      <td>0</td>\n",
       "      <td>0</td>\n",
       "      <td>0</td>\n",
       "      <td>0</td>\n",
       "      <td>0</td>\n",
       "      <td>0</td>\n",
       "    </tr>\n",
       "    <tr>\n",
       "      <th>84</th>\n",
       "      <td>31.0</td>\n",
       "      <td>62.0</td>\n",
       "      <td>44.0</td>\n",
       "      <td>21.0</td>\n",
       "      <td>0.0</td>\n",
       "      <td>28.0</td>\n",
       "      <td>0</td>\n",
       "      <td>0</td>\n",
       "      <td>0</td>\n",
       "      <td>0</td>\n",
       "      <td>...</td>\n",
       "      <td>0</td>\n",
       "      <td>0</td>\n",
       "      <td>0</td>\n",
       "      <td>0</td>\n",
       "      <td>0</td>\n",
       "      <td>0</td>\n",
       "      <td>0</td>\n",
       "      <td>0</td>\n",
       "      <td>0</td>\n",
       "      <td>0</td>\n",
       "    </tr>\n",
       "    <tr>\n",
       "      <th>64</th>\n",
       "      <td>27.0</td>\n",
       "      <td>53.0</td>\n",
       "      <td>35.0</td>\n",
       "      <td>37.0</td>\n",
       "      <td>0.0</td>\n",
       "      <td>0.0</td>\n",
       "      <td>1</td>\n",
       "      <td>0</td>\n",
       "      <td>0</td>\n",
       "      <td>0</td>\n",
       "      <td>...</td>\n",
       "      <td>0</td>\n",
       "      <td>0</td>\n",
       "      <td>0</td>\n",
       "      <td>0</td>\n",
       "      <td>1</td>\n",
       "      <td>0</td>\n",
       "      <td>0</td>\n",
       "      <td>0</td>\n",
       "      <td>0</td>\n",
       "      <td>0</td>\n",
       "    </tr>\n",
       "    <tr>\n",
       "      <th>42</th>\n",
       "      <td>32.0</td>\n",
       "      <td>62.0</td>\n",
       "      <td>34.0</td>\n",
       "      <td>22.0</td>\n",
       "      <td>0.0</td>\n",
       "      <td>24.0</td>\n",
       "      <td>0</td>\n",
       "      <td>0</td>\n",
       "      <td>0</td>\n",
       "      <td>1</td>\n",
       "      <td>...</td>\n",
       "      <td>0</td>\n",
       "      <td>0</td>\n",
       "      <td>0</td>\n",
       "      <td>0</td>\n",
       "      <td>0</td>\n",
       "      <td>0</td>\n",
       "      <td>0</td>\n",
       "      <td>0</td>\n",
       "      <td>1</td>\n",
       "      <td>0</td>\n",
       "    </tr>\n",
       "    <tr>\n",
       "      <th>10</th>\n",
       "      <td>27.0</td>\n",
       "      <td>54.0</td>\n",
       "      <td>28.0</td>\n",
       "      <td>13.0</td>\n",
       "      <td>0.0</td>\n",
       "      <td>40.0</td>\n",
       "      <td>0</td>\n",
       "      <td>1</td>\n",
       "      <td>0</td>\n",
       "      <td>0</td>\n",
       "      <td>...</td>\n",
       "      <td>0</td>\n",
       "      <td>0</td>\n",
       "      <td>0</td>\n",
       "      <td>0</td>\n",
       "      <td>0</td>\n",
       "      <td>0</td>\n",
       "      <td>1</td>\n",
       "      <td>0</td>\n",
       "      <td>0</td>\n",
       "      <td>0</td>\n",
       "    </tr>\n",
       "    <tr>\n",
       "      <th>0</th>\n",
       "      <td>26.0</td>\n",
       "      <td>52.0</td>\n",
       "      <td>38.0</td>\n",
       "      <td>37.0</td>\n",
       "      <td>0.0</td>\n",
       "      <td>0.0</td>\n",
       "      <td>0</td>\n",
       "      <td>0</td>\n",
       "      <td>0</td>\n",
       "      <td>0</td>\n",
       "      <td>...</td>\n",
       "      <td>0</td>\n",
       "      <td>0</td>\n",
       "      <td>1</td>\n",
       "      <td>0</td>\n",
       "      <td>0</td>\n",
       "      <td>0</td>\n",
       "      <td>0</td>\n",
       "      <td>0</td>\n",
       "      <td>0</td>\n",
       "      <td>0</td>\n",
       "    </tr>\n",
       "    <tr>\n",
       "      <th>31</th>\n",
       "      <td>30.0</td>\n",
       "      <td>60.0</td>\n",
       "      <td>27.0</td>\n",
       "      <td>12.0</td>\n",
       "      <td>0.0</td>\n",
       "      <td>40.0</td>\n",
       "      <td>0</td>\n",
       "      <td>0</td>\n",
       "      <td>1</td>\n",
       "      <td>0</td>\n",
       "      <td>...</td>\n",
       "      <td>0</td>\n",
       "      <td>0</td>\n",
       "      <td>0</td>\n",
       "      <td>0</td>\n",
       "      <td>0</td>\n",
       "      <td>0</td>\n",
       "      <td>0</td>\n",
       "      <td>1</td>\n",
       "      <td>0</td>\n",
       "      <td>0</td>\n",
       "    </tr>\n",
       "    <tr>\n",
       "      <th>76</th>\n",
       "      <td>30.0</td>\n",
       "      <td>60.0</td>\n",
       "      <td>47.0</td>\n",
       "      <td>22.0</td>\n",
       "      <td>0.0</td>\n",
       "      <td>21.0</td>\n",
       "      <td>0</td>\n",
       "      <td>0</td>\n",
       "      <td>0</td>\n",
       "      <td>0</td>\n",
       "      <td>...</td>\n",
       "      <td>0</td>\n",
       "      <td>0</td>\n",
       "      <td>1</td>\n",
       "      <td>0</td>\n",
       "      <td>0</td>\n",
       "      <td>0</td>\n",
       "      <td>0</td>\n",
       "      <td>0</td>\n",
       "      <td>0</td>\n",
       "      <td>0</td>\n",
       "    </tr>\n",
       "    <tr>\n",
       "      <th>47</th>\n",
       "      <td>29.0</td>\n",
       "      <td>58.0</td>\n",
       "      <td>43.0</td>\n",
       "      <td>24.0</td>\n",
       "      <td>0.0</td>\n",
       "      <td>18.0</td>\n",
       "      <td>0</td>\n",
       "      <td>1</td>\n",
       "      <td>0</td>\n",
       "      <td>0</td>\n",
       "      <td>...</td>\n",
       "      <td>0</td>\n",
       "      <td>0</td>\n",
       "      <td>0</td>\n",
       "      <td>0</td>\n",
       "      <td>0</td>\n",
       "      <td>1</td>\n",
       "      <td>0</td>\n",
       "      <td>0</td>\n",
       "      <td>0</td>\n",
       "      <td>0</td>\n",
       "    </tr>\n",
       "    <tr>\n",
       "      <th>26</th>\n",
       "      <td>30.0</td>\n",
       "      <td>60.0</td>\n",
       "      <td>63.0</td>\n",
       "      <td>9.0</td>\n",
       "      <td>9.0</td>\n",
       "      <td>29.0</td>\n",
       "      <td>0</td>\n",
       "      <td>0</td>\n",
       "      <td>0</td>\n",
       "      <td>1</td>\n",
       "      <td>...</td>\n",
       "      <td>1</td>\n",
       "      <td>0</td>\n",
       "      <td>0</td>\n",
       "      <td>0</td>\n",
       "      <td>0</td>\n",
       "      <td>0</td>\n",
       "      <td>0</td>\n",
       "      <td>0</td>\n",
       "      <td>0</td>\n",
       "      <td>0</td>\n",
       "    </tr>\n",
       "    <tr>\n",
       "      <th>44</th>\n",
       "      <td>35.0</td>\n",
       "      <td>67.0</td>\n",
       "      <td>42.0</td>\n",
       "      <td>10.0</td>\n",
       "      <td>0.0</td>\n",
       "      <td>35.0</td>\n",
       "      <td>0</td>\n",
       "      <td>0</td>\n",
       "      <td>0</td>\n",
       "      <td>0</td>\n",
       "      <td>...</td>\n",
       "      <td>0</td>\n",
       "      <td>0</td>\n",
       "      <td>0</td>\n",
       "      <td>0</td>\n",
       "      <td>0</td>\n",
       "      <td>0</td>\n",
       "      <td>0</td>\n",
       "      <td>0</td>\n",
       "      <td>0</td>\n",
       "      <td>0</td>\n",
       "    </tr>\n",
       "    <tr>\n",
       "      <th>4</th>\n",
       "      <td>28.0</td>\n",
       "      <td>54.0</td>\n",
       "      <td>46.0</td>\n",
       "      <td>35.0</td>\n",
       "      <td>0.0</td>\n",
       "      <td>0.0</td>\n",
       "      <td>0</td>\n",
       "      <td>1</td>\n",
       "      <td>0</td>\n",
       "      <td>0</td>\n",
       "      <td>...</td>\n",
       "      <td>0</td>\n",
       "      <td>0</td>\n",
       "      <td>0</td>\n",
       "      <td>0</td>\n",
       "      <td>0</td>\n",
       "      <td>1</td>\n",
       "      <td>0</td>\n",
       "      <td>0</td>\n",
       "      <td>0</td>\n",
       "      <td>0</td>\n",
       "    </tr>\n",
       "    <tr>\n",
       "      <th>22</th>\n",
       "      <td>35.0</td>\n",
       "      <td>68.0</td>\n",
       "      <td>33.0</td>\n",
       "      <td>11.0</td>\n",
       "      <td>0.0</td>\n",
       "      <td>37.0</td>\n",
       "      <td>0</td>\n",
       "      <td>0</td>\n",
       "      <td>0</td>\n",
       "      <td>1</td>\n",
       "      <td>...</td>\n",
       "      <td>0</td>\n",
       "      <td>0</td>\n",
       "      <td>0</td>\n",
       "      <td>0</td>\n",
       "      <td>0</td>\n",
       "      <td>0</td>\n",
       "      <td>0</td>\n",
       "      <td>0</td>\n",
       "      <td>1</td>\n",
       "      <td>0</td>\n",
       "    </tr>\n",
       "    <tr>\n",
       "      <th>12</th>\n",
       "      <td>25.0</td>\n",
       "      <td>50.0</td>\n",
       "      <td>65.0</td>\n",
       "      <td>36.0</td>\n",
       "      <td>0.0</td>\n",
       "      <td>0.0</td>\n",
       "      <td>0</td>\n",
       "      <td>0</td>\n",
       "      <td>1</td>\n",
       "      <td>0</td>\n",
       "      <td>...</td>\n",
       "      <td>1</td>\n",
       "      <td>0</td>\n",
       "      <td>0</td>\n",
       "      <td>0</td>\n",
       "      <td>0</td>\n",
       "      <td>0</td>\n",
       "      <td>0</td>\n",
       "      <td>0</td>\n",
       "      <td>0</td>\n",
       "      <td>0</td>\n",
       "    </tr>\n",
       "    <tr>\n",
       "      <th>88</th>\n",
       "      <td>36.0</td>\n",
       "      <td>68.0</td>\n",
       "      <td>50.0</td>\n",
       "      <td>12.0</td>\n",
       "      <td>18.0</td>\n",
       "      <td>19.0</td>\n",
       "      <td>0</td>\n",
       "      <td>0</td>\n",
       "      <td>1</td>\n",
       "      <td>0</td>\n",
       "      <td>...</td>\n",
       "      <td>0</td>\n",
       "      <td>0</td>\n",
       "      <td>0</td>\n",
       "      <td>0</td>\n",
       "      <td>0</td>\n",
       "      <td>0</td>\n",
       "      <td>0</td>\n",
       "      <td>0</td>\n",
       "      <td>0</td>\n",
       "      <td>1</td>\n",
       "    </tr>\n",
       "    <tr>\n",
       "      <th>73</th>\n",
       "      <td>27.0</td>\n",
       "      <td>53.0</td>\n",
       "      <td>34.0</td>\n",
       "      <td>42.0</td>\n",
       "      <td>0.0</td>\n",
       "      <td>0.0</td>\n",
       "      <td>1</td>\n",
       "      <td>0</td>\n",
       "      <td>0</td>\n",
       "      <td>0</td>\n",
       "      <td>...</td>\n",
       "      <td>0</td>\n",
       "      <td>0</td>\n",
       "      <td>0</td>\n",
       "      <td>0</td>\n",
       "      <td>1</td>\n",
       "      <td>0</td>\n",
       "      <td>0</td>\n",
       "      <td>0</td>\n",
       "      <td>0</td>\n",
       "      <td>0</td>\n",
       "    </tr>\n",
       "  </tbody>\n",
       "</table>\n",
       "<p>20 rows × 22 columns</p>\n",
       "</div>"
      ],
      "text/plain": [
       "    Temparature  Humidity   Moisture  Nitrogen  Potassium  Phosphorous  \\\n",
       "62         34.0       65.0      64.0      24.0        0.0         20.0   \n",
       "40         27.0       54.0      30.0      13.0        0.0         13.0   \n",
       "95         30.0       60.0      27.0       4.0       17.0         17.0   \n",
       "18         28.0       54.0      65.0      39.0        0.0          0.0   \n",
       "97         36.0       60.0      43.0      15.0        0.0         41.0   \n",
       "84         31.0       62.0      44.0      21.0        0.0         28.0   \n",
       "64         27.0       53.0      35.0      37.0        0.0          0.0   \n",
       "42         32.0       62.0      34.0      22.0        0.0         24.0   \n",
       "10         27.0       54.0      28.0      13.0        0.0         40.0   \n",
       "0          26.0       52.0      38.0      37.0        0.0          0.0   \n",
       "31         30.0       60.0      27.0      12.0        0.0         40.0   \n",
       "76         30.0       60.0      47.0      22.0        0.0         21.0   \n",
       "47         29.0       58.0      43.0      24.0        0.0         18.0   \n",
       "26         30.0       60.0      63.0       9.0        9.0         29.0   \n",
       "44         35.0       67.0      42.0      10.0        0.0         35.0   \n",
       "4          28.0       54.0      46.0      35.0        0.0          0.0   \n",
       "22         35.0       68.0      33.0      11.0        0.0         37.0   \n",
       "12         25.0       50.0      65.0      36.0        0.0          0.0   \n",
       "88         36.0       68.0      50.0      12.0       18.0         19.0   \n",
       "73         27.0       53.0      34.0      42.0        0.0          0.0   \n",
       "\n",
       "    Soil Type_Black  Soil Type_Clayey  Soil Type_Loamy  Soil Type_Red  ...  \\\n",
       "62                1                 0                0              0  ...   \n",
       "40                0                 1                0              0  ...   \n",
       "95                0                 0                0              1  ...   \n",
       "18                1                 0                0              0  ...   \n",
       "97                0                 0                0              0  ...   \n",
       "84                0                 0                0              0  ...   \n",
       "64                1                 0                0              0  ...   \n",
       "42                0                 0                0              1  ...   \n",
       "10                0                 1                0              0  ...   \n",
       "0                 0                 0                0              0  ...   \n",
       "31                0                 0                1              0  ...   \n",
       "76                0                 0                0              0  ...   \n",
       "47                0                 1                0              0  ...   \n",
       "26                0                 0                0              1  ...   \n",
       "44                0                 0                0              0  ...   \n",
       "4                 0                 1                0              0  ...   \n",
       "22                0                 0                0              1  ...   \n",
       "12                0                 0                1              0  ...   \n",
       "88                0                 0                1              0  ...   \n",
       "73                1                 0                0              0  ...   \n",
       "\n",
       "    Crop Type_Cotton  Crop Type_Ground Nuts  Crop Type_Maize  \\\n",
       "62                 1                      0                0   \n",
       "40                 0                      0                0   \n",
       "95                 0                      0                0   \n",
       "18                 1                      0                0   \n",
       "97                 0                      0                0   \n",
       "84                 0                      0                0   \n",
       "64                 0                      0                0   \n",
       "42                 0                      0                0   \n",
       "10                 0                      0                0   \n",
       "0                  0                      0                1   \n",
       "31                 0                      0                0   \n",
       "76                 0                      0                1   \n",
       "47                 0                      0                0   \n",
       "26                 1                      0                0   \n",
       "44                 0                      0                0   \n",
       "4                  0                      0                0   \n",
       "22                 0                      0                0   \n",
       "12                 1                      0                0   \n",
       "88                 0                      0                0   \n",
       "73                 0                      0                0   \n",
       "\n",
       "    Crop Type_Millets  Crop Type_Oil seeds  Crop Type_Paddy  Crop Type_Pulses  \\\n",
       "62                  0                    0                0                 0   \n",
       "40                  0                    0                0                 1   \n",
       "95                  0                    0                0                 0   \n",
       "18                  0                    0                0                 0   \n",
       "97                  1                    0                0                 0   \n",
       "84                  0                    0                0                 0   \n",
       "64                  0                    1                0                 0   \n",
       "42                  0                    0                0                 0   \n",
       "10                  0                    0                0                 1   \n",
       "0                   0                    0                0                 0   \n",
       "31                  0                    0                0                 0   \n",
       "76                  0                    0                0                 0   \n",
       "47                  0                    0                1                 0   \n",
       "26                  0                    0                0                 0   \n",
       "44                  0                    0                0                 0   \n",
       "4                   0                    0                1                 0   \n",
       "22                  0                    0                0                 0   \n",
       "12                  0                    0                0                 0   \n",
       "88                  0                    0                0                 0   \n",
       "73                  0                    1                0                 0   \n",
       "\n",
       "    Crop Type_Sugarcane  Crop Type_Tobacco  Crop Type_Wheat  \n",
       "62                    0                  0                0  \n",
       "40                    0                  0                0  \n",
       "95                    0                  1                0  \n",
       "18                    0                  0                0  \n",
       "97                    0                  0                0  \n",
       "84                    0                  0                0  \n",
       "64                    0                  0                0  \n",
       "42                    0                  1                0  \n",
       "10                    0                  0                0  \n",
       "0                     0                  0                0  \n",
       "31                    1                  0                0  \n",
       "76                    0                  0                0  \n",
       "47                    0                  0                0  \n",
       "26                    0                  0                0  \n",
       "44                    0                  0                0  \n",
       "4                     0                  0                0  \n",
       "22                    0                  1                0  \n",
       "12                    0                  0                0  \n",
       "88                    0                  0                1  \n",
       "73                    0                  0                0  \n",
       "\n",
       "[20 rows x 22 columns]"
      ]
     },
     "execution_count": 34,
     "metadata": {},
     "output_type": "execute_result"
    }
   ],
   "source": [
    "X_test"
   ]
  },
  {
   "cell_type": "code",
   "execution_count": 35,
   "id": "9d2577a5",
   "metadata": {
    "execution": {
     "iopub.execute_input": "2022-06-13T14:08:56.229645Z",
     "iopub.status.busy": "2022-06-13T14:08:56.229311Z",
     "iopub.status.idle": "2022-06-13T14:08:56.235822Z",
     "shell.execute_reply": "2022-06-13T14:08:56.234788Z"
    },
    "papermill": {
     "duration": 0.044426,
     "end_time": "2022-06-13T14:08:56.237998",
     "exception": false,
     "start_time": "2022-06-13T14:08:56.193572",
     "status": "completed"
    },
    "tags": []
   },
   "outputs": [
    {
     "data": {
      "text/plain": [
       "49    14-35-14\n",
       "70       28-28\n",
       "68    10-26-26\n",
       "15    17-17-17\n",
       "39         DAP\n",
       "        ...   \n",
       "60        Urea\n",
       "71        Urea\n",
       "14         DAP\n",
       "92        Urea\n",
       "51       20-20\n",
       "Name: Fertilizer Name, Length: 79, dtype: object"
      ]
     },
     "execution_count": 35,
     "metadata": {},
     "output_type": "execute_result"
    }
   ],
   "source": [
    "y_train"
   ]
  },
  {
   "cell_type": "code",
   "execution_count": 36,
   "id": "8d7eb490",
   "metadata": {
    "execution": {
     "iopub.execute_input": "2022-06-13T14:08:56.309282Z",
     "iopub.status.busy": "2022-06-13T14:08:56.308860Z",
     "iopub.status.idle": "2022-06-13T14:08:56.313289Z",
     "shell.execute_reply": "2022-06-13T14:08:56.312793Z"
    },
    "papermill": {
     "duration": 0.042496,
     "end_time": "2022-06-13T14:08:56.315730",
     "exception": false,
     "start_time": "2022-06-13T14:08:56.273234",
     "status": "completed"
    },
    "tags": []
   },
   "outputs": [
    {
     "name": "stdout",
     "output_type": "stream",
     "text": [
      "X_train shape: (79, 22)\n",
      "y_train shape: (79,)\n",
      "X_test shape: (20, 22)\n",
      "y_test shape: (20,)\n"
     ]
    }
   ],
   "source": [
    "print('X_train shape:',X_train.shape)\n",
    "print('y_train shape:',y_train.shape)\n",
    "print('X_test shape:',X_test.shape)\n",
    "print('y_test shape:',y_test.shape)"
   ]
  },
  {
   "cell_type": "code",
   "execution_count": 37,
   "id": "18c2ff1e",
   "metadata": {
    "execution": {
     "iopub.execute_input": "2022-06-13T14:08:56.385266Z",
     "iopub.status.busy": "2022-06-13T14:08:56.384939Z",
     "iopub.status.idle": "2022-06-13T14:08:56.395878Z",
     "shell.execute_reply": "2022-06-13T14:08:56.395368Z"
    },
    "papermill": {
     "duration": 0.047881,
     "end_time": "2022-06-13T14:08:56.397765",
     "exception": false,
     "start_time": "2022-06-13T14:08:56.349884",
     "status": "completed"
    },
    "tags": []
   },
   "outputs": [
    {
     "data": {
      "text/plain": [
       "RobustScaler()"
      ]
     },
     "execution_count": 37,
     "metadata": {},
     "output_type": "execute_result"
    }
   ],
   "source": [
    "from sklearn.preprocessing import RobustScaler\n",
    "rs = RobustScaler()\n",
    "rs.fit(X_train)"
   ]
  },
  {
   "cell_type": "code",
   "execution_count": 38,
   "id": "cfffa31a",
   "metadata": {
    "execution": {
     "iopub.execute_input": "2022-06-13T14:08:56.469010Z",
     "iopub.status.busy": "2022-06-13T14:08:56.468508Z",
     "iopub.status.idle": "2022-06-13T14:08:56.475013Z",
     "shell.execute_reply": "2022-06-13T14:08:56.474474Z"
    },
    "papermill": {
     "duration": 0.045065,
     "end_time": "2022-06-13T14:08:56.477406",
     "exception": false,
     "start_time": "2022-06-13T14:08:56.432341",
     "status": "completed"
    },
    "tags": []
   },
   "outputs": [
    {
     "data": {
      "text/plain": [
       "array([[ 0.6       ,  0.4       ,  0.58823529, ...,  0.        ,\n",
       "         0.        ,  0.        ],\n",
       "       [-0.8       , -0.8       , -0.11764706, ...,  0.        ,\n",
       "         0.        ,  0.        ],\n",
       "       [-1.        , -1.        , -0.05882353, ...,  0.        ,\n",
       "         0.        ,  0.        ],\n",
       "       ...,\n",
       "       [-0.8       , -0.8       , -0.58823529, ...,  0.        ,\n",
       "         0.        ,  0.        ],\n",
       "       [ 1.2       ,  0.8       ,  0.        , ...,  0.        ,\n",
       "         0.        ,  0.        ],\n",
       "       [ 1.2       ,  0.8       , -0.47058824, ...,  0.        ,\n",
       "         0.        ,  0.        ]])"
      ]
     },
     "execution_count": 38,
     "metadata": {},
     "output_type": "execute_result"
    }
   ],
   "source": [
    "X_train_scaled =rs.transform(X_train)\n",
    "X_train_scaled"
   ]
  },
  {
   "cell_type": "code",
   "execution_count": 39,
   "id": "e8550321",
   "metadata": {
    "execution": {
     "iopub.execute_input": "2022-06-13T14:08:56.549750Z",
     "iopub.status.busy": "2022-06-13T14:08:56.549404Z",
     "iopub.status.idle": "2022-06-13T14:08:56.558788Z",
     "shell.execute_reply": "2022-06-13T14:08:56.558322Z"
    },
    "papermill": {
     "duration": 0.048747,
     "end_time": "2022-06-13T14:08:56.561190",
     "exception": false,
     "start_time": "2022-06-13T14:08:56.512443",
     "status": "completed"
    },
    "tags": []
   },
   "outputs": [
    {
     "data": {
      "text/plain": [
       "array([[ 0.8       ,  0.5       ,  1.35294118,  0.84615385,  0.        ,\n",
       "         0.09756098,  1.        ,  0.        ,  0.        ,  0.        ,\n",
       "         0.        ,  0.        ,  1.        ,  0.        ,  0.        ,\n",
       "         0.        ,  0.        ,  0.        ,  0.        ,  0.        ,\n",
       "         0.        ,  0.        ],\n",
       "       [-0.6       , -0.6       , -0.64705882,  0.        ,  0.        ,\n",
       "        -0.24390244,  0.        ,  1.        ,  0.        ,  0.        ,\n",
       "         0.        ,  0.        ,  0.        ,  0.        ,  0.        ,\n",
       "         0.        ,  0.        ,  0.        ,  1.        ,  0.        ,\n",
       "         0.        ,  0.        ],\n",
       "       [ 0.        ,  0.        , -0.82352941, -0.69230769,  2.125     ,\n",
       "        -0.04878049,  0.        ,  0.        ,  0.        ,  1.        ,\n",
       "         0.        ,  0.        ,  0.        ,  0.        ,  0.        ,\n",
       "         0.        ,  0.        ,  0.        ,  0.        ,  0.        ,\n",
       "         1.        ,  0.        ],\n",
       "       [-0.4       , -0.6       ,  1.41176471,  2.        ,  0.        ,\n",
       "        -0.87804878,  1.        ,  0.        ,  0.        ,  0.        ,\n",
       "         0.        ,  0.        ,  1.        ,  0.        ,  0.        ,\n",
       "         0.        ,  0.        ,  0.        ,  0.        ,  0.        ,\n",
       "         0.        ,  0.        ],\n",
       "       [ 1.2       ,  0.        ,  0.11764706,  0.15384615,  0.        ,\n",
       "         1.12195122,  0.        ,  0.        ,  0.        ,  0.        ,\n",
       "         1.        ,  0.        ,  0.        ,  0.        ,  0.        ,\n",
       "         1.        ,  0.        ,  0.        ,  0.        ,  0.        ,\n",
       "         0.        ,  0.        ],\n",
       "       [ 0.2       ,  0.2       ,  0.17647059,  0.61538462,  0.        ,\n",
       "         0.48780488,  0.        ,  0.        ,  0.        ,  0.        ,\n",
       "         1.        ,  1.        ,  0.        ,  0.        ,  0.        ,\n",
       "         0.        ,  0.        ,  0.        ,  0.        ,  0.        ,\n",
       "         0.        ,  0.        ],\n",
       "       [-0.6       , -0.7       , -0.35294118,  1.84615385,  0.        ,\n",
       "        -0.87804878,  1.        ,  0.        ,  0.        ,  0.        ,\n",
       "         0.        ,  0.        ,  0.        ,  0.        ,  0.        ,\n",
       "         0.        ,  1.        ,  0.        ,  0.        ,  0.        ,\n",
       "         0.        ,  0.        ],\n",
       "       [ 0.4       ,  0.2       , -0.41176471,  0.69230769,  0.        ,\n",
       "         0.29268293,  0.        ,  0.        ,  0.        ,  1.        ,\n",
       "         0.        ,  0.        ,  0.        ,  0.        ,  0.        ,\n",
       "         0.        ,  0.        ,  0.        ,  0.        ,  0.        ,\n",
       "         1.        ,  0.        ],\n",
       "       [-0.6       , -0.6       , -0.76470588,  0.        ,  0.        ,\n",
       "         1.07317073,  0.        ,  1.        ,  0.        ,  0.        ,\n",
       "         0.        ,  0.        ,  0.        ,  0.        ,  0.        ,\n",
       "         0.        ,  0.        ,  0.        ,  1.        ,  0.        ,\n",
       "         0.        ,  0.        ],\n",
       "       [-0.8       , -0.8       , -0.17647059,  1.84615385,  0.        ,\n",
       "        -0.87804878,  0.        ,  0.        ,  0.        ,  0.        ,\n",
       "         1.        ,  0.        ,  0.        ,  0.        ,  1.        ,\n",
       "         0.        ,  0.        ,  0.        ,  0.        ,  0.        ,\n",
       "         0.        ,  0.        ],\n",
       "       [ 0.        ,  0.        , -0.82352941, -0.07692308,  0.        ,\n",
       "         1.07317073,  0.        ,  0.        ,  1.        ,  0.        ,\n",
       "         0.        ,  0.        ,  0.        ,  0.        ,  0.        ,\n",
       "         0.        ,  0.        ,  0.        ,  0.        ,  1.        ,\n",
       "         0.        ,  0.        ],\n",
       "       [ 0.        ,  0.        ,  0.35294118,  0.69230769,  0.        ,\n",
       "         0.14634146,  0.        ,  0.        ,  0.        ,  0.        ,\n",
       "         1.        ,  0.        ,  0.        ,  0.        ,  1.        ,\n",
       "         0.        ,  0.        ,  0.        ,  0.        ,  0.        ,\n",
       "         0.        ,  0.        ],\n",
       "       [-0.2       , -0.2       ,  0.11764706,  0.84615385,  0.        ,\n",
       "         0.        ,  0.        ,  1.        ,  0.        ,  0.        ,\n",
       "         0.        ,  0.        ,  0.        ,  0.        ,  0.        ,\n",
       "         0.        ,  0.        ,  1.        ,  0.        ,  0.        ,\n",
       "         0.        ,  0.        ],\n",
       "       [ 0.        ,  0.        ,  1.29411765, -0.30769231,  1.125     ,\n",
       "         0.53658537,  0.        ,  0.        ,  0.        ,  1.        ,\n",
       "         0.        ,  0.        ,  1.        ,  0.        ,  0.        ,\n",
       "         0.        ,  0.        ,  0.        ,  0.        ,  0.        ,\n",
       "         0.        ,  0.        ],\n",
       "       [ 1.        ,  0.7       ,  0.05882353, -0.23076923,  0.        ,\n",
       "         0.82926829,  0.        ,  0.        ,  0.        ,  0.        ,\n",
       "         1.        ,  1.        ,  0.        ,  0.        ,  0.        ,\n",
       "         0.        ,  0.        ,  0.        ,  0.        ,  0.        ,\n",
       "         0.        ,  0.        ],\n",
       "       [-0.4       , -0.6       ,  0.29411765,  1.69230769,  0.        ,\n",
       "        -0.87804878,  0.        ,  1.        ,  0.        ,  0.        ,\n",
       "         0.        ,  0.        ,  0.        ,  0.        ,  0.        ,\n",
       "         0.        ,  0.        ,  1.        ,  0.        ,  0.        ,\n",
       "         0.        ,  0.        ],\n",
       "       [ 1.        ,  0.8       , -0.47058824, -0.15384615,  0.        ,\n",
       "         0.92682927,  0.        ,  0.        ,  0.        ,  1.        ,\n",
       "         0.        ,  0.        ,  0.        ,  0.        ,  0.        ,\n",
       "         0.        ,  0.        ,  0.        ,  0.        ,  0.        ,\n",
       "         1.        ,  0.        ],\n",
       "       [-1.        , -1.        ,  1.41176471,  1.76923077,  0.        ,\n",
       "        -0.87804878,  0.        ,  0.        ,  1.        ,  0.        ,\n",
       "         0.        ,  0.        ,  1.        ,  0.        ,  0.        ,\n",
       "         0.        ,  0.        ,  0.        ,  0.        ,  0.        ,\n",
       "         0.        ,  0.        ],\n",
       "       [ 1.2       ,  0.8       ,  0.52941176, -0.07692308,  2.25      ,\n",
       "         0.04878049,  0.        ,  0.        ,  1.        ,  0.        ,\n",
       "         0.        ,  0.        ,  0.        ,  0.        ,  0.        ,\n",
       "         0.        ,  0.        ,  0.        ,  0.        ,  0.        ,\n",
       "         0.        ,  1.        ],\n",
       "       [-0.6       , -0.7       , -0.41176471,  2.23076923,  0.        ,\n",
       "        -0.87804878,  1.        ,  0.        ,  0.        ,  0.        ,\n",
       "         0.        ,  0.        ,  0.        ,  0.        ,  0.        ,\n",
       "         0.        ,  1.        ,  0.        ,  0.        ,  0.        ,\n",
       "         0.        ,  0.        ]])"
      ]
     },
     "execution_count": 39,
     "metadata": {},
     "output_type": "execute_result"
    }
   ],
   "source": [
    "X_test_scaled = rs.transform(X_test)\n",
    "X_test_scaled"
   ]
  },
  {
   "cell_type": "code",
   "execution_count": 40,
   "id": "e881fbe5",
   "metadata": {
    "execution": {
     "iopub.execute_input": "2022-06-13T14:08:56.634446Z",
     "iopub.status.busy": "2022-06-13T14:08:56.634094Z",
     "iopub.status.idle": "2022-06-13T14:08:56.639282Z",
     "shell.execute_reply": "2022-06-13T14:08:56.638696Z"
    },
    "papermill": {
     "duration": 0.045351,
     "end_time": "2022-06-13T14:08:56.641510",
     "exception": false,
     "start_time": "2022-06-13T14:08:56.596159",
     "status": "completed"
    },
    "tags": []
   },
   "outputs": [
    {
     "data": {
      "text/plain": [
       "(79,)"
      ]
     },
     "execution_count": 40,
     "metadata": {},
     "output_type": "execute_result"
    }
   ],
   "source": [
    "y_train.shape"
   ]
  },
  {
   "cell_type": "code",
   "execution_count": 41,
   "id": "bc9eb5dc",
   "metadata": {
    "execution": {
     "iopub.execute_input": "2022-06-13T14:08:56.713159Z",
     "iopub.status.busy": "2022-06-13T14:08:56.712553Z",
     "iopub.status.idle": "2022-06-13T14:08:56.716769Z",
     "shell.execute_reply": "2022-06-13T14:08:56.716341Z"
    },
    "papermill": {
     "duration": 0.042103,
     "end_time": "2022-06-13T14:08:56.718672",
     "exception": false,
     "start_time": "2022-06-13T14:08:56.676569",
     "status": "completed"
    },
    "tags": []
   },
   "outputs": [],
   "source": [
    "from sklearn.preprocessing import LabelEncoder\n",
    "le = LabelEncoder()\n",
    "y_train_encoded = le.fit(y_train)\n",
    "y_train_encoded = le.transform(y_train)"
   ]
  },
  {
   "cell_type": "code",
   "execution_count": 42,
   "id": "9ac5d6ec",
   "metadata": {
    "execution": {
     "iopub.execute_input": "2022-06-13T14:08:56.766266Z",
     "iopub.status.busy": "2022-06-13T14:08:56.765681Z",
     "iopub.status.idle": "2022-06-13T14:08:56.769496Z",
     "shell.execute_reply": "2022-06-13T14:08:56.768908Z"
    },
    "papermill": {
     "duration": 0.029552,
     "end_time": "2022-06-13T14:08:56.770970",
     "exception": false,
     "start_time": "2022-06-13T14:08:56.741418",
     "status": "completed"
    },
    "tags": []
   },
   "outputs": [],
   "source": [
    "y_test_encoded = le.transform(y_test)"
   ]
  },
  {
   "cell_type": "code",
   "execution_count": 43,
   "id": "863e6f9a",
   "metadata": {
    "execution": {
     "iopub.execute_input": "2022-06-13T14:08:56.818712Z",
     "iopub.status.busy": "2022-06-13T14:08:56.818152Z",
     "iopub.status.idle": "2022-06-13T14:08:56.823349Z",
     "shell.execute_reply": "2022-06-13T14:08:56.822767Z"
    },
    "papermill": {
     "duration": 0.03074,
     "end_time": "2022-06-13T14:08:56.824775",
     "exception": false,
     "start_time": "2022-06-13T14:08:56.794035",
     "status": "completed"
    },
    "tags": []
   },
   "outputs": [
    {
     "data": {
      "text/plain": [
       "array([1, 4, 0, 2, 5, 1, 1, 6, 2, 5, 4, 4, 5, 5, 2, 1, 3, 6, 6, 4, 4, 6,\n",
       "       4, 6, 5, 1, 4, 5, 4, 3, 4, 4, 2, 4, 3, 3, 5, 1, 0, 6, 3, 2, 6, 4,\n",
       "       3, 3, 1, 3, 6, 0, 1, 2, 6, 1, 3, 1, 6, 1, 5, 0, 3, 5, 3, 5, 6, 2,\n",
       "       1, 6, 6, 1, 5, 0, 5, 3, 6, 6, 5, 6, 3])"
      ]
     },
     "execution_count": 43,
     "metadata": {},
     "output_type": "execute_result"
    }
   ],
   "source": [
    "y_train_encoded"
   ]
  },
  {
   "cell_type": "code",
   "execution_count": 44,
   "id": "ac4a0cf7",
   "metadata": {
    "execution": {
     "iopub.execute_input": "2022-06-13T14:08:56.872132Z",
     "iopub.status.busy": "2022-06-13T14:08:56.871724Z",
     "iopub.status.idle": "2022-06-13T14:08:56.876612Z",
     "shell.execute_reply": "2022-06-13T14:08:56.875803Z"
    },
    "papermill": {
     "duration": 0.030031,
     "end_time": "2022-06-13T14:08:56.878141",
     "exception": false,
     "start_time": "2022-06-13T14:08:56.848110",
     "status": "completed"
    },
    "tags": []
   },
   "outputs": [
    {
     "data": {
      "text/plain": [
       "array([4, 3, 0, 6, 5, 4, 6, 4, 5, 6, 5, 4, 4, 1, 5, 6, 5, 6, 0, 6])"
      ]
     },
     "execution_count": 44,
     "metadata": {},
     "output_type": "execute_result"
    }
   ],
   "source": [
    "y_test_encoded"
   ]
  },
  {
   "cell_type": "markdown",
   "id": "b64bc9e0",
   "metadata": {
    "papermill": {
     "duration": 0.022866,
     "end_time": "2022-06-13T14:08:56.923929",
     "exception": false,
     "start_time": "2022-06-13T14:08:56.901063",
     "status": "completed"
    },
    "tags": []
   },
   "source": [
    "MODEL EVALUATION"
   ]
  },
  {
   "cell_type": "code",
   "execution_count": 45,
   "id": "fcb5fe43",
   "metadata": {
    "execution": {
     "iopub.execute_input": "2022-06-13T14:08:56.970815Z",
     "iopub.status.busy": "2022-06-13T14:08:56.970453Z",
     "iopub.status.idle": "2022-06-13T14:08:57.050500Z",
     "shell.execute_reply": "2022-06-13T14:08:57.049491Z"
    },
    "papermill": {
     "duration": 0.105326,
     "end_time": "2022-06-13T14:08:57.052173",
     "exception": false,
     "start_time": "2022-06-13T14:08:56.946847",
     "status": "completed"
    },
    "tags": []
   },
   "outputs": [
    {
     "name": "stdout",
     "output_type": "stream",
     "text": [
      "Training accuracy:  1.0\n"
     ]
    }
   ],
   "source": [
    "## model 1\n",
    "from sklearn.linear_model import LogisticRegression\n",
    "model1 = LogisticRegression()\n",
    "model1.fit(X_train_scaled,y_train_encoded)\n",
    "print('Training accuracy: ', model1.score(X_train_scaled,y_train_encoded))  "
   ]
  },
  {
   "cell_type": "code",
   "execution_count": 46,
   "id": "618c724c",
   "metadata": {
    "execution": {
     "iopub.execute_input": "2022-06-13T14:08:57.100420Z",
     "iopub.status.busy": "2022-06-13T14:08:57.100051Z",
     "iopub.status.idle": "2022-06-13T14:08:57.105737Z",
     "shell.execute_reply": "2022-06-13T14:08:57.105173Z"
    },
    "papermill": {
     "duration": 0.032468,
     "end_time": "2022-06-13T14:08:57.107520",
     "exception": false,
     "start_time": "2022-06-13T14:08:57.075052",
     "status": "completed"
    },
    "tags": []
   },
   "outputs": [
    {
     "data": {
      "text/plain": [
       "array([5, 3, 0, 6, 5, 4, 6, 4, 5, 6, 5, 4, 4, 1, 5, 6, 5, 6, 1, 6])"
      ]
     },
     "execution_count": 46,
     "metadata": {},
     "output_type": "execute_result"
    }
   ],
   "source": [
    "y_pred1 = model1.predict(X_test_scaled)\n",
    "y_pred1"
   ]
  },
  {
   "cell_type": "code",
   "execution_count": 47,
   "id": "c142a816",
   "metadata": {
    "execution": {
     "iopub.execute_input": "2022-06-13T14:08:57.155627Z",
     "iopub.status.busy": "2022-06-13T14:08:57.154693Z",
     "iopub.status.idle": "2022-06-13T14:08:57.416042Z",
     "shell.execute_reply": "2022-06-13T14:08:57.415236Z"
    },
    "papermill": {
     "duration": 0.286817,
     "end_time": "2022-06-13T14:08:57.417687",
     "exception": false,
     "start_time": "2022-06-13T14:08:57.130870",
     "status": "completed"
    },
    "tags": []
   },
   "outputs": [
    {
     "name": "stdout",
     "output_type": "stream",
     "text": [
      "Plot confusion matrix <sklearn.metrics._plot.confusion_matrix.ConfusionMatrixDisplay object at 0x7f155030e5d0>\n"
     ]
    },
    {
     "data": {
      "image/png": "[encoded data removed]",
      "text/plain": [
       "<Figure size 432x288 with 2 Axes>"
      ]
     },
     "metadata": {
      "needs_background": "light"
     },
     "output_type": "display_data"
    }
   ],
   "source": [
    "from sklearn.metrics import plot_confusion_matrix, classification_report\n",
    "\n",
    "print(\"Plot confusion matrix\",plot_confusion_matrix(model1,X_test_scaled,y_test_encoded))"
   ]
  },
  {
   "cell_type": "code",
   "execution_count": 48,
   "id": "eab188b1",
   "metadata": {
    "execution": {
     "iopub.execute_input": "2022-06-13T14:08:57.464791Z",
     "iopub.status.busy": "2022-06-13T14:08:57.464450Z",
     "iopub.status.idle": "2022-06-13T14:08:57.474991Z",
     "shell.execute_reply": "2022-06-13T14:08:57.474095Z"
    },
    "papermill": {
     "duration": 0.036002,
     "end_time": "2022-06-13T14:08:57.476712",
     "exception": false,
     "start_time": "2022-06-13T14:08:57.440710",
     "status": "completed"
    },
    "tags": []
   },
   "outputs": [
    {
     "name": "stdout",
     "output_type": "stream",
     "text": [
      "Classification Report               precision    recall  f1-score   support\n",
      "\n",
      "           0       1.00      0.50      0.67         2\n",
      "           1       0.50      1.00      0.67         1\n",
      "           3       1.00      1.00      1.00         1\n",
      "           4       1.00      0.80      0.89         5\n",
      "           5       0.83      1.00      0.91         5\n",
      "           6       1.00      1.00      1.00         6\n",
      "\n",
      "    accuracy                           0.90        20\n",
      "   macro avg       0.89      0.88      0.86        20\n",
      "weighted avg       0.93      0.90      0.90        20\n",
      "\n"
     ]
    }
   ],
   "source": [
    "print(\"Classification Report\",classification_report(y_test_encoded,y_pred1))"
   ]
  },
  {
   "cell_type": "code",
   "execution_count": 49,
   "id": "5698e6fd",
   "metadata": {
    "execution": {
     "iopub.execute_input": "2022-06-13T14:08:57.524622Z",
     "iopub.status.busy": "2022-06-13T14:08:57.524007Z",
     "iopub.status.idle": "2022-06-13T14:08:57.591917Z",
     "shell.execute_reply": "2022-06-13T14:08:57.591208Z"
    },
    "papermill": {
     "duration": 0.094178,
     "end_time": "2022-06-13T14:08:57.593769",
     "exception": false,
     "start_time": "2022-06-13T14:08:57.499591",
     "status": "completed"
    },
    "tags": []
   },
   "outputs": [
    {
     "name": "stdout",
     "output_type": "stream",
     "text": [
      "Training accuracy:  1.0\n"
     ]
    }
   ],
   "source": [
    "## model 2\n",
    "\n",
    "from sklearn.tree import DecisionTreeClassifier\n",
    "model_2 = DecisionTreeClassifier()\n",
    "model_2.fit(X_train_scaled,y_train_encoded)\n",
    "print('Training accuracy: ',model_2.score(X_train_scaled,y_train_encoded))"
   ]
  },
  {
   "cell_type": "code",
   "execution_count": 50,
   "id": "a4ae711d",
   "metadata": {
    "execution": {
     "iopub.execute_input": "2022-06-13T14:08:57.644232Z",
     "iopub.status.busy": "2022-06-13T14:08:57.643678Z",
     "iopub.status.idle": "2022-06-13T14:08:57.648772Z",
     "shell.execute_reply": "2022-06-13T14:08:57.648219Z"
    },
    "papermill": {
     "duration": 0.031853,
     "end_time": "2022-06-13T14:08:57.650181",
     "exception": false,
     "start_time": "2022-06-13T14:08:57.618328",
     "status": "completed"
    },
    "tags": []
   },
   "outputs": [
    {
     "data": {
      "text/plain": [
       "array([4, 3, 0, 6, 5, 4, 6, 4, 5, 6, 5, 4, 4, 1, 5, 6, 5, 6, 0, 6])"
      ]
     },
     "execution_count": 50,
     "metadata": {},
     "output_type": "execute_result"
    }
   ],
   "source": [
    "y_pred2 = model_2.predict(X_test_scaled)\n",
    "y_pred2"
   ]
  },
  {
   "cell_type": "code",
   "execution_count": 51,
   "id": "c664cf9c",
   "metadata": {
    "execution": {
     "iopub.execute_input": "2022-06-13T14:08:57.698658Z",
     "iopub.status.busy": "2022-06-13T14:08:57.698084Z",
     "iopub.status.idle": "2022-06-13T14:08:57.954734Z",
     "shell.execute_reply": "2022-06-13T14:08:57.953870Z"
    },
    "papermill": {
     "duration": 0.283156,
     "end_time": "2022-06-13T14:08:57.956936",
     "exception": false,
     "start_time": "2022-06-13T14:08:57.673780",
     "status": "completed"
    },
    "tags": []
   },
   "outputs": [
    {
     "name": "stdout",
     "output_type": "stream",
     "text": [
      "Plot confusion matrix <sklearn.metrics._plot.confusion_matrix.ConfusionMatrixDisplay object at 0x7f154bc0e510>\n"
     ]
    },
    {
     "data": {
      "image/png": "[encoded data removed]",
      "text/plain": [
       "<Figure size 432x288 with 2 Axes>"
      ]
     },
     "metadata": {
      "needs_background": "light"
     },
     "output_type": "display_data"
    }
   ],
   "source": [
    "print(\"Plot confusion matrix\",plot_confusion_matrix(model_2,X_test_scaled,y_test_encoded))"
   ]
  },
  {
   "cell_type": "code",
   "execution_count": 52,
   "id": "7f903f5f",
   "metadata": {
    "execution": {
     "iopub.execute_input": "2022-06-13T14:08:58.005867Z",
     "iopub.status.busy": "2022-06-13T14:08:58.005162Z",
     "iopub.status.idle": "2022-06-13T14:08:58.014579Z",
     "shell.execute_reply": "2022-06-13T14:08:58.013710Z"
    },
    "papermill": {
     "duration": 0.035538,
     "end_time": "2022-06-13T14:08:58.016389",
     "exception": false,
     "start_time": "2022-06-13T14:08:57.980851",
     "status": "completed"
    },
    "tags": []
   },
   "outputs": [
    {
     "name": "stdout",
     "output_type": "stream",
     "text": [
      "Classification Report               precision    recall  f1-score   support\n",
      "\n",
      "           0       1.00      1.00      1.00         2\n",
      "           1       1.00      1.00      1.00         1\n",
      "           3       1.00      1.00      1.00         1\n",
      "           4       1.00      1.00      1.00         5\n",
      "           5       1.00      1.00      1.00         5\n",
      "           6       1.00      1.00      1.00         6\n",
      "\n",
      "    accuracy                           1.00        20\n",
      "   macro avg       1.00      1.00      1.00        20\n",
      "weighted avg       1.00      1.00      1.00        20\n",
      "\n"
     ]
    }
   ],
   "source": [
    "print(\"Classification Report\",classification_report(y_test_encoded,y_pred2))"
   ]
  },
  {
   "cell_type": "code",
   "execution_count": 53,
   "id": "bd1109f2",
   "metadata": {
    "execution": {
     "iopub.execute_input": "2022-06-13T14:08:58.067820Z",
     "iopub.status.busy": "2022-06-13T14:08:58.066739Z",
     "iopub.status.idle": "2022-06-13T14:08:58.306863Z",
     "shell.execute_reply": "2022-06-13T14:08:58.305859Z"
    },
    "papermill": {
     "duration": 0.267383,
     "end_time": "2022-06-13T14:08:58.308779",
     "exception": false,
     "start_time": "2022-06-13T14:08:58.041396",
     "status": "completed"
    },
    "tags": []
   },
   "outputs": [
    {
     "name": "stdout",
     "output_type": "stream",
     "text": [
      "Training accuracy:  1.0\n"
     ]
    }
   ],
   "source": [
    "## model 3\n",
    "from sklearn.ensemble import RandomForestClassifier\n",
    "model_3=RandomForestClassifier()\n",
    "model_3.fit(X_train_scaled,y_train_encoded)\n",
    "print('Training accuracy: ',model_3.score(X_train_scaled,y_train_encoded))"
   ]
  },
  {
   "cell_type": "code",
   "execution_count": 54,
   "id": "a10dbe10",
   "metadata": {
    "execution": {
     "iopub.execute_input": "2022-06-13T14:08:58.383635Z",
     "iopub.status.busy": "2022-06-13T14:08:58.382812Z",
     "iopub.status.idle": "2022-06-13T14:08:58.398556Z",
     "shell.execute_reply": "2022-06-13T14:08:58.397967Z"
    },
    "papermill": {
     "duration": 0.054745,
     "end_time": "2022-06-13T14:08:58.400341",
     "exception": false,
     "start_time": "2022-06-13T14:08:58.345596",
     "status": "completed"
    },
    "tags": []
   },
   "outputs": [
    {
     "data": {
      "text/plain": [
       "array([4, 3, 0, 6, 5, 4, 6, 4, 5, 6, 5, 4, 4, 1, 5, 6, 5, 6, 2, 6])"
      ]
     },
     "execution_count": 54,
     "metadata": {},
     "output_type": "execute_result"
    }
   ],
   "source": [
    "y_pred3 = model_3.predict(X_test_scaled)\n",
    "y_pred3"
   ]
  },
  {
   "cell_type": "code",
   "execution_count": 55,
   "id": "7fd951af",
   "metadata": {
    "execution": {
     "iopub.execute_input": "2022-06-13T14:08:58.477136Z",
     "iopub.status.busy": "2022-06-13T14:08:58.476562Z",
     "iopub.status.idle": "2022-06-13T14:08:58.778723Z",
     "shell.execute_reply": "2022-06-13T14:08:58.777873Z"
    },
    "papermill": {
     "duration": 0.342805,
     "end_time": "2022-06-13T14:08:58.780850",
     "exception": false,
     "start_time": "2022-06-13T14:08:58.438045",
     "status": "completed"
    },
    "tags": []
   },
   "outputs": [
    {
     "name": "stdout",
     "output_type": "stream",
     "text": [
      "Plot confusion matrix <sklearn.metrics._plot.confusion_matrix.ConfusionMatrixDisplay object at 0x7f154b7c7350>\n"
     ]
    },
    {
     "data": {
      "image/png": "[encoded data removed]",
      "text/plain": [
       "<Figure size 432x288 with 2 Axes>"
      ]
     },
     "metadata": {
      "needs_background": "light"
     },
     "output_type": "display_data"
    }
   ],
   "source": [
    "print(\"Plot confusion matrix\",plot_confusion_matrix(model_3,X_test_scaled,y_test_encoded))\n",
    "    "
   ]
  },
  {
   "cell_type": "code",
   "execution_count": 56,
   "id": "8e05bf1c",
   "metadata": {
    "execution": {
     "iopub.execute_input": "2022-06-13T14:08:58.858914Z",
     "iopub.status.busy": "2022-06-13T14:08:58.858525Z",
     "iopub.status.idle": "2022-06-13T14:08:58.868463Z",
     "shell.execute_reply": "2022-06-13T14:08:58.867522Z"
    },
    "papermill": {
     "duration": 0.051182,
     "end_time": "2022-06-13T14:08:58.870461",
     "exception": false,
     "start_time": "2022-06-13T14:08:58.819279",
     "status": "completed"
    },
    "tags": []
   },
   "outputs": [
    {
     "name": "stdout",
     "output_type": "stream",
     "text": [
      "Classification Report               precision    recall  f1-score   support\n",
      "\n",
      "           0       1.00      0.50      0.67         2\n",
      "           1       1.00      1.00      1.00         1\n",
      "           2       0.00      0.00      0.00         0\n",
      "           3       1.00      1.00      1.00         1\n",
      "           4       1.00      1.00      1.00         5\n",
      "           5       1.00      1.00      1.00         5\n",
      "           6       1.00      1.00      1.00         6\n",
      "\n",
      "    accuracy                           0.95        20\n",
      "   macro avg       0.86      0.79      0.81        20\n",
      "weighted avg       1.00      0.95      0.97        20\n",
      "\n"
     ]
    }
   ],
   "source": [
    "print(\"Classification Report\",classification_report(y_test_encoded,y_pred3))"
   ]
  },
  {
   "cell_type": "code",
   "execution_count": 57,
   "id": "bc561d10",
   "metadata": {
    "execution": {
     "iopub.execute_input": "2022-06-13T14:08:58.922162Z",
     "iopub.status.busy": "2022-06-13T14:08:58.920657Z",
     "iopub.status.idle": "2022-06-13T14:08:59.241929Z",
     "shell.execute_reply": "2022-06-13T14:08:59.240749Z"
    },
    "papermill": {
     "duration": 0.348266,
     "end_time": "2022-06-13T14:08:59.243847",
     "exception": false,
     "start_time": "2022-06-13T14:08:58.895581",
     "status": "completed"
    },
    "tags": []
   },
   "outputs": [
    {
     "name": "stdout",
     "output_type": "stream",
     "text": [
      "Training accuracy:  1.0\n"
     ]
    }
   ],
   "source": [
    "## model 4\n",
    "\n",
    "from sklearn.ensemble import GradientBoostingClassifier\n",
    "model_4 = GradientBoostingClassifier()\n",
    "model_4.fit(X_train_scaled,y_train_encoded)\n",
    "print('Training accuracy: ',model_4.score(X_train_scaled,y_train_encoded))\n"
   ]
  },
  {
   "cell_type": "code",
   "execution_count": 58,
   "id": "ff390497",
   "metadata": {
    "execution": {
     "iopub.execute_input": "2022-06-13T14:08:59.293638Z",
     "iopub.status.busy": "2022-06-13T14:08:59.292927Z",
     "iopub.status.idle": "2022-06-13T14:08:59.299779Z",
     "shell.execute_reply": "2022-06-13T14:08:59.299003Z"
    },
    "papermill": {
     "duration": 0.033933,
     "end_time": "2022-06-13T14:08:59.301919",
     "exception": false,
     "start_time": "2022-06-13T14:08:59.267986",
     "status": "completed"
    },
    "tags": []
   },
   "outputs": [
    {
     "data": {
      "text/plain": [
       "array([4, 3, 0, 6, 5, 4, 6, 4, 5, 6, 5, 4, 4, 1, 1, 6, 5, 6, 0, 6])"
      ]
     },
     "execution_count": 58,
     "metadata": {},
     "output_type": "execute_result"
    }
   ],
   "source": [
    "y_pred4 = model_4.predict(X_test_scaled)\n",
    "y_pred4"
   ]
  },
  {
   "cell_type": "code",
   "execution_count": 59,
   "id": "a3931fdb",
   "metadata": {
    "execution": {
     "iopub.execute_input": "2022-06-13T14:08:59.353588Z",
     "iopub.status.busy": "2022-06-13T14:08:59.352569Z",
     "iopub.status.idle": "2022-06-13T14:08:59.736437Z",
     "shell.execute_reply": "2022-06-13T14:08:59.735506Z"
    },
    "papermill": {
     "duration": 0.410586,
     "end_time": "2022-06-13T14:08:59.738010",
     "exception": false,
     "start_time": "2022-06-13T14:08:59.327424",
     "status": "completed"
    },
    "tags": []
   },
   "outputs": [
    {
     "name": "stdout",
     "output_type": "stream",
     "text": [
      "Plot confusion matrix <sklearn.metrics._plot.confusion_matrix.ConfusionMatrixDisplay object at 0x7f154b5c0910>\n"
     ]
    },
    {
     "data": {
      "image/png": "[encoded data removed]",
      "text/plain": [
       "<Figure size 432x288 with 2 Axes>"
      ]
     },
     "metadata": {
      "needs_background": "light"
     },
     "output_type": "display_data"
    }
   ],
   "source": [
    "print(\"Plot confusion matrix\",plot_confusion_matrix(model_4,X_test_scaled,y_test_encoded))\n"
   ]
  },
  {
   "cell_type": "code",
   "execution_count": 60,
   "id": "57b0d9e6",
   "metadata": {
    "execution": {
     "iopub.execute_input": "2022-06-13T14:08:59.788115Z",
     "iopub.status.busy": "2022-06-13T14:08:59.787351Z",
     "iopub.status.idle": "2022-06-13T14:08:59.798732Z",
     "shell.execute_reply": "2022-06-13T14:08:59.797316Z"
    },
    "papermill": {
     "duration": 0.038215,
     "end_time": "2022-06-13T14:08:59.800497",
     "exception": false,
     "start_time": "2022-06-13T14:08:59.762282",
     "status": "completed"
    },
    "tags": []
   },
   "outputs": [
    {
     "name": "stdout",
     "output_type": "stream",
     "text": [
      "Classification Report               precision    recall  f1-score   support\n",
      "\n",
      "           0       1.00      1.00      1.00         2\n",
      "           1       0.50      1.00      0.67         1\n",
      "           3       1.00      1.00      1.00         1\n",
      "           4       1.00      1.00      1.00         5\n",
      "           5       1.00      0.80      0.89         5\n",
      "           6       1.00      1.00      1.00         6\n",
      "\n",
      "    accuracy                           0.95        20\n",
      "   macro avg       0.92      0.97      0.93        20\n",
      "weighted avg       0.97      0.95      0.96        20\n",
      "\n"
     ]
    }
   ],
   "source": [
    "print(\"Classification Report\",classification_report(y_test_encoded,y_pred4))"
   ]
  }
 ],
 "metadata": {
  "kernelspec": {
   "display_name": "Python 3",
   "language": "python",
   "name": "python3"
  },
  "language_info": {
   "codemirror_mode": {
    "name": "ipython",
    "version": 3
   },
   "file_extension": ".py",
   "mimetype": "text/x-python",
   "name": "python",
   "nbconvert_exporter": "python",
   "pygments_lexer": "ipython3",
   "version": "3.7.12"
  },
  "papermill": {
   "default_parameters": {},
   "duration": 21.53907,
   "end_time": "2022-06-13T14:09:00.746630",
   "environment_variables": {},
   "exception": null,
   "input_path": "__notebook__.ipynb",
   "output_path": "__notebook__.ipynb",
   "parameters": {},
   "start_time": "2022-06-13T14:08:39.207560",
   "version": "2.3.4"
  }
 },
 "nbformat": 4,
 "nbformat_minor": 5
}
